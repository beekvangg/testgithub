{
 "cells": [
  {
   "cell_type": "markdown",
   "metadata": {},
   "source": [
    "##### Requests in Python"
   ]
  },
  {
   "cell_type": "code",
   "execution_count": 21,
   "metadata": {},
   "outputs": [
    {
     "name": "stdout",
     "output_type": "stream",
     "text": [
      "200\n",
      "{'User-Agent': 'python-requests/2.32.3', 'Accept-Encoding': 'gzip, deflate', 'Accept': '*/*', 'Connection': 'keep-alive', 'Cookie': '_abck=8BD4D37623B263550B8EF394CEB55E7E~-1~YAAQrFozuLJ6FNqUAQAAS+mz2g23EhGvOngV23cbaac2ZaqLp8yBEVJ2S/sH4NuLyPheYsi/uzbX9wQgp7MkNWN1hUvMDlr/AvwTptjPKVSI3VpoFU7lProGqzfiV3TUXK95Rjblmxw7VRDUl43ZTGfDqemmyvyxcPif5t9Hw3XcnsBvw9CpqiddkztUgjCXrkzPhADAUC+QyNWFeSU2yqtas5VJfIf3O2V5i8dK3ckOW6OBul+iVZTdi2t2TwLHWHiGcAYzLAxcjZ3UF5QYRfMpnrrlSQBVdOxK3o8RH+e1mbYaKgjEY5LeZ0dTzWuo5R/+eXl4K8Ncvk24DF99+mZ/GwNgpiKCrstiMmCzxbTqq0DjTz1uXEwa9awpz1zp+QQbj6div0PAi2W179ZxzkvqSmVKfU4=~-1~-1~-1; bm_sz=4A8B98D25D64804D55088CD5D2F4CB81~YAAQrFozuLN6FNqUAQAAS+mz2hretqgVz+2PngYbSojQQM4cKf3Bos47WsWaqhCBKSdJEnyC4Jls7D7x+IfR0EMvlcXovUvrOcc9W4pWeLNeMFgxtbIHUUuSzc/8eE6tVLygWXkyULhuw2dV/FHBtn/xJg8Z/jeqqhHXCT+cE9uRF7T0ZkE/Og8rIklFvlaXBwOp5f9PiIphYIUIZI9ayAFG9PFopwlIKLIDjonCQ+juyECA8ylu67ZSS6Ey2G1+WmE2v0wYotbfMnFyovbwNFunTdszM2VjEC2wZ46RRS0a+ri4xw5YUegZadp5JrLOzw89SesabiTlprF+3m5PfdJm6uyk00lk~3683382~3291205'}\n",
      "request body: None\n",
      "{'Content-Security-Policy': 'upgrade-insecure-requests', 'x-frame-options': 'SAMEORIGIN', 'Last-Modified': 'Thu, 06 Feb 2025 09:20:28 GMT', 'ETag': '\"2972f-62d75c0bd01e9-gzip\"', 'Accept-Ranges': 'bytes', 'Content-Type': 'text/html;charset=utf-8', 'X-Content-Type-Options': 'nosniff', 'Cache-Control': 'max-age=600', 'Expires': 'Thu, 06 Feb 2025 10:10:11 GMT', 'X-Akamai-Transformed': '9 28762 0 pmb=mTOE,1', 'Content-Encoding': 'gzip', 'Date': 'Thu, 06 Feb 2025 10:00:11 GMT', 'Content-Length': '28930', 'Connection': 'keep-alive', 'Vary': 'Accept-Encoding', 'Strict-Transport-Security': 'max-age=31536000'}\n",
      "Thu, 06 Feb 2025 10:00:11 GMT\n",
      "text/html;charset=utf-8\n",
      "utf-8\n",
      "\n",
      "<!DOCTYPE HTML>\n",
      "<html lang=\"en\">\n",
      "<head>\n",
      "    \n",
      "    \n",
      "    \n",
      "    \n",
      "    \n",
      "    \n",
      "    \n",
      "      \n",
      "    \n",
      "  \n",
      "Status Code: 200\n",
      "POST request body: name=Joseph&ID=123\n"
     ]
    },
    {
     "data": {
      "text/plain": [
       "{'ID': '123', 'name': 'Joseph'}"
      ]
     },
     "execution_count": 21,
     "metadata": {},
     "output_type": "execute_result"
    }
   ],
   "source": [
    "# Requests is a Python Library that allows you to send HTTP/1.1 requests easily\n",
    "import requests\n",
    "\n",
    "# We will also use the following libraries\n",
    "import os \n",
    "from PIL import Image\n",
    "from IPython.display import IFrame\n",
    "\n",
    "# You can make a GET request via the method get\n",
    "url='https://www.ibm.com/'\n",
    "r=requests.get(url)\n",
    "\n",
    "print(r.status_code)\n",
    "print(r.request.headers)\n",
    "print(\"request body:\", r.request.body)\n",
    "print(r.headers)\n",
    "\n",
    "header=r.headers\n",
    "print(r.headers['date'])\n",
    "print(r.headers['Content-Type'])\n",
    "print(r.encoding)\n",
    "\n",
    "# When the Content-Type is text/html we can use the attribute text to display \n",
    "# the HTML in the body. We can review the first 100 characters\n",
    "print(r.text[0:100])\n",
    "\n",
    "# Download a file\n",
    "url='https://cf-courses-data.s3.us.cloud-object-storage.appdomain.cloud/IBMDeveloperSkillsNetwork-PY0101EN-SkillsNetwork/labs/Module%205/data/Example1.txt'\n",
    "path=os.path.join(os.getcwd(),'example1.txt')\n",
    "r=requests.get(url)\n",
    "with open(path,'wb') as f:\n",
    "    f.write(r.content)\n",
    "\n",
    "# Post request\n",
    "url_post='http://httpbin.org/post'\n",
    "payload={\"name\":\"Joseph\",\"ID\":\"123\"}\n",
    "r_post=requests.post(url_post,data=payload)\n",
    "\n",
    "print(f\"Status Code: {r_post.status_code}\")\n",
    "print(f\"POST request body: {r_post.request.body}\")\n",
    "r_post.json()['form']"
   ]
  }
 ],
 "metadata": {
  "kernelspec": {
   "display_name": "Python 3",
   "language": "python",
   "name": "python3"
  },
  "language_info": {
   "codemirror_mode": {
    "name": "ipython",
    "version": 3
   },
   "file_extension": ".py",
   "mimetype": "text/x-python",
   "name": "python",
   "nbconvert_exporter": "python",
   "pygments_lexer": "ipython3",
   "version": "3.8.10"
  }
 },
 "nbformat": 4,
 "nbformat_minor": 2
}
