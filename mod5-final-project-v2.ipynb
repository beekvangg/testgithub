{
 "cells": [
  {
   "cell_type": "markdown",
   "id": "9dd6afb2-f6a0-4d29-a551-7da4a7f731f8",
   "metadata": {},
   "source": [
    "<center>\n",
    "    <img src=\"https://cf-courses-data.s3.us.cloud-object-storage.appdomain.cloud/IBMDeveloperSkillsNetwork-DB0201EN-SkillsNetwork/labs/FinalModule_Coursera_V5/images/SN_web_lightmode.png\" width=\"300\" alt=\"cognitiveclass.ai logo\">\n",
    "</center>\n",
    "\n",
    "<h1 align=center><font size = 5>Assignment: Notebook for Graded Assessment</font></h1>\n"
   ]
  },
  {
   "cell_type": "markdown",
   "id": "d3ced40e-a008-4d6f-90c4-6db24ae5152e",
   "metadata": {},
   "source": [
    "# Introduction\n",
    "\n",
    "Using this Python notebook you will:\n",
    "\n",
    "1.  Understand three Chicago datasets\n",
    "2.  Load the three datasets into three tables in a SQLIte database\n",
    "3.  Execute SQL queries to answer assignment questions\n"
   ]
  },
  {
   "cell_type": "markdown",
   "id": "07d73b2c-62b5-4b0a-b4d6-64b824c71596",
   "metadata": {},
   "source": [
    "## Understand the datasets\n",
    "\n",
    "To complete the assignment problems in this notebook you will be using three datasets that are available on the city of Chicago's Data Portal:\n",
    "\n",
    "1.  <a href=\"https://data.cityofchicago.org/Health-Human-Services/Census-Data-Selected-socioeconomic-indicators-in-C/kn9c-c2s2?utm_medium=Exinfluencer&utm_source=Exinfluencer&utm_content=000026UJ&utm_term=10006555&utm_id=NA-SkillsNetwork-Channel-SkillsNetworkCoursesIBMDeveloperSkillsNetworkDB0201ENSkillsNetwork20127838-2021-01-01\">Socioeconomic Indicators in Chicago</a>\n",
    "2.  <a href=\"https://data.cityofchicago.org/Education/Chicago-Public-Schools-Progress-Report-Cards-2011-/9xs2-f89t?utm_medium=Exinfluencer&utm_source=Exinfluencer&utm_content=000026UJ&utm_term=10006555&utm_id=NA-SkillsNetwork-Channel-SkillsNetworkCoursesIBMDeveloperSkillsNetworkDB0201ENSkillsNetwork20127838-2021-01-01\">Chicago Public Schools</a>\n",
    "3.  <a href=\"https://data.cityofchicago.org/Public-Safety/Crimes-2001-to-present/ijzp-q8t2?utm_medium=Exinfluencer&utm_source=Exinfluencer&utm_content=000026UJ&utm_term=10006555&utm_id=NA-SkillsNetwork-Channel-SkillsNetworkCoursesIBMDeveloperSkillsNetworkDB0201ENSkillsNetwork20127838-2021-01-01\">Chicago Crime Data</a>\n",
    "\n",
    "### 1. Socioeconomic Indicators in Chicago\n",
    "\n",
    "This dataset contains a selection of six socioeconomic indicators of public health significance and a “hardship index,” for each Chicago community area, for the years 2008 – 2012.\n",
    "\n",
    "A detailed description of this dataset and the original dataset can be obtained from the Chicago Data Portal at:\n",
    "\n",
    "[https://data.cityofchicago.org/Health-Human-Services/Census-Data-Selected-socioeconomic-indicators-in-C/kn9c-c2s2](https://data.cityofchicago.org/Health-Human-Services/Census-Data-Selected-socioeconomic-indicators-in-C/kn9c-c2s2?utm_medium=Exinfluencer&utm_source=Exinfluencer&utm_content=000026UJ&utm_term=10006555&utm_id=NA-SkillsNetwork-Channel-SkillsNetworkCoursesIBMDeveloperSkillsNetworkDB0201ENSkillsNetwork20127838-2021-01-01&cm_mmc=Email_Newsletter-\\_-Developer_Ed%2BTech-\\_-WW_WW-\\_-SkillsNetwork-Courses-IBMDeveloperSkillsNetwork-DB0201EN-SkillsNetwork-20127838&cm_mmca1=000026UJ&cm_mmca2=10006555&cm_mmca3=M12345678&cvosrc=email.Newsletter.M12345678&cvo_campaign=000026UJ)\n",
    "\n",
    "### 2. Chicago Public Schools\n",
    "\n",
    "This dataset shows all school level performance data used to create CPS School Report Cards for the 2011-2012 school year. This dataset is provided by the city of Chicago's Data Portal.\n",
    "\n",
    "A detailed description of this dataset and the original dataset can be obtained from the Chicago Data Portal at:\n",
    "\n",
    "[https://data.cityofchicago.org/Education/Chicago-Public-Schools-Progress-Report-Cards-2011-/9xs2-f89t](https://data.cityofchicago.org/Education/Chicago-Public-Schools-Progress-Report-Cards-2011-/9xs2-f89t?utm_medium=Exinfluencer&utm_source=Exinfluencer&utm_content=000026UJ&utm_term=10006555&utm_id=NA-SkillsNetwork-Channel-SkillsNetworkCoursesIBMDeveloperSkillsNetworkDB0201ENSkillsNetwork20127838-2021-01-01&cm_mmc=Email_Newsletter-\\_-Developer_Ed%2BTech-\\_-WW_WW-\\_-SkillsNetwork-Courses-IBMDeveloperSkillsNetwork-DB0201EN-SkillsNetwork-20127838&cm_mmca1=000026UJ&cm_mmca2=10006555&cm_mmca3=M12345678&cvosrc=email.Newsletter.M12345678&cvo_campaign=000026UJ)\n",
    "\n",
    "### 3. Chicago Crime Data\n",
    "\n",
    "This dataset reflects reported incidents of crime (with the exception of murders where data exists for each victim) that occurred in the City of Chicago from 2001 to present, minus the most recent seven days.\n",
    "\n",
    "A detailed description of this dataset and the original dataset can be obtained from the Chicago Data Portal at:\n",
    "\n",
    "[https://data.cityofchicago.org/Public-Safety/Crimes-2001-to-present/ijzp-q8t2](https://data.cityofchicago.org/Public-Safety/Crimes-2001-to-present/ijzp-q8t2?utm_medium=Exinfluencer&utm_source=Exinfluencer&utm_content=000026UJ&utm_term=10006555&utm_id=NA-SkillsNetwork-Channel-SkillsNetworkCoursesIBMDeveloperSkillsNetworkDB0201ENSkillsNetwork20127838-2021-01-01&cm_mmc=Email_Newsletter-\\_-Developer_Ed%2BTech-\\_-WW_WW-\\_-SkillsNetwork-Courses-IBMDeveloperSkillsNetwork-DB0201EN-SkillsNetwork-20127838&cm_mmca1=000026UJ&cm_mmca2=10006555&cm_mmca3=M12345678&cvosrc=email.Newsletter.M12345678&cvo_campaign=000026UJ)\n"
   ]
  },
  {
   "cell_type": "markdown",
   "id": "b13e2395-4b5e-4694-ae81-9f333d2c686d",
   "metadata": {},
   "source": [
    "### Download the datasets\n",
    "\n",
    "This assignment requires you to have these three tables populated with a subset of the whole datasets.\n",
    "\n",
    "In many cases the dataset to be analyzed is available as a .CSV (comma separated values) file, perhaps on the internet. \n",
    "\n",
    "Use the links below to read the data files using the Pandas library. \n",
    "\n",
    "* Chicago Census Data\n",
    "\n",
    "https://cf-courses-data.s3.us.cloud-object-storage.appdomain.cloud/IBMDeveloperSkillsNetwork-DB0201EN-SkillsNetwork/labs/FinalModule_Coursera_V5/data/ChicagoCensusData.csv?utm_medium=Exinfluencer&utm_source=Exinfluencer&utm_content=000026UJ&utm_term=10006555&utm_id=NA-SkillsNetwork-Channel-SkillsNetworkCoursesIBMDeveloperSkillsNetworkDB0201ENSkillsNetwork20127838-2021-01-01\n",
    "\n",
    "* Chicago Public Schools\n",
    "\n",
    "https://cf-courses-data.s3.us.cloud-object-storage.appdomain.cloud/IBMDeveloperSkillsNetwork-DB0201EN-SkillsNetwork/labs/FinalModule_Coursera_V5/data/ChicagoPublicSchools.csv?utm_medium=Exinfluencer&utm_source=Exinfluencer&utm_content=000026UJ&utm_term=10006555&utm_id=NA-SkillsNetwork-Channel-SkillsNetworkCoursesIBMDeveloperSkillsNetworkDB0201ENSkillsNetwork20127838-2021-01-01\n",
    "\n",
    "* Chicago Crime Data\n",
    "\n",
    "https://cf-courses-data.s3.us.cloud-object-storage.appdomain.cloud/IBMDeveloperSkillsNetwork-DB0201EN-SkillsNetwork/labs/FinalModule_Coursera_V5/data/ChicagoCrimeData.csv?utm_medium=Exinfluencer&utm_source=Exinfluencer&utm_content=000026UJ&utm_term=10006555&utm_id=NA-SkillsNetwork-Channel-SkillsNetworkCoursesIBMDeveloperSkillsNetworkDB0201ENSkillsNetwork20127838-2021-01-01\n",
    "\n",
    "**NOTE:** Ensure you use the datasets available on the links above instead of directly from the Chicago Data Portal. The versions linked here are subsets of the original datasets and have some of the column names modified to be more database friendly which will make it easier to complete this assignment.\n"
   ]
  },
  {
   "cell_type": "markdown",
   "id": "7f6b6b24-60e5-413a-8748-c7823ba652f8",
   "metadata": {},
   "source": [
    "Execute the below code cell to avoid prettytable default error.\n"
   ]
  },
  {
   "cell_type": "code",
   "execution_count": 1,
   "id": "42a4769f-29dd-4b22-856a-35766c9da550",
   "metadata": {},
   "outputs": [
    {
     "name": "stdout",
     "output_type": "stream",
     "text": [
      "Requirement already satisfied: ipython-sql in c:\\users\\gerard.vanbeek\\appdata\\local\\packages\\pythonsoftwarefoundation.python.3.8_qbz5n2kfra8p0\\localcache\\local-packages\\python38\\site-packages (0.5.0)\n",
      "Requirement already satisfied: prettytable in c:\\users\\gerard.vanbeek\\appdata\\local\\packages\\pythonsoftwarefoundation.python.3.8_qbz5n2kfra8p0\\localcache\\local-packages\\python38\\site-packages (3.11.0)\n",
      "Requirement already satisfied: ipython in c:\\users\\gerard.vanbeek\\appdata\\local\\packages\\pythonsoftwarefoundation.python.3.8_qbz5n2kfra8p0\\localcache\\local-packages\\python38\\site-packages (from ipython-sql) (8.12.3)\n",
      "Requirement already satisfied: sqlalchemy>=2.0 in c:\\users\\gerard.vanbeek\\appdata\\local\\packages\\pythonsoftwarefoundation.python.3.8_qbz5n2kfra8p0\\localcache\\local-packages\\python38\\site-packages (from ipython-sql) (2.0.38)\n",
      "Requirement already satisfied: sqlparse in c:\\users\\gerard.vanbeek\\appdata\\local\\packages\\pythonsoftwarefoundation.python.3.8_qbz5n2kfra8p0\\localcache\\local-packages\\python38\\site-packages (from ipython-sql) (0.5.3)\n",
      "Requirement already satisfied: six in c:\\users\\gerard.vanbeek\\appdata\\local\\packages\\pythonsoftwarefoundation.python.3.8_qbz5n2kfra8p0\\localcache\\local-packages\\python38\\site-packages (from ipython-sql) (1.17.0)\n",
      "Requirement already satisfied: ipython-genutils in c:\\users\\gerard.vanbeek\\appdata\\local\\packages\\pythonsoftwarefoundation.python.3.8_qbz5n2kfra8p0\\localcache\\local-packages\\python38\\site-packages (from ipython-sql) (0.2.0)\n",
      "Requirement already satisfied: wcwidth in c:\\users\\gerard.vanbeek\\appdata\\local\\packages\\pythonsoftwarefoundation.python.3.8_qbz5n2kfra8p0\\localcache\\local-packages\\python38\\site-packages (from prettytable) (0.2.13)\n",
      "Requirement already satisfied: typing-extensions>=4.6.0 in c:\\users\\gerard.vanbeek\\appdata\\local\\packages\\pythonsoftwarefoundation.python.3.8_qbz5n2kfra8p0\\localcache\\local-packages\\python38\\site-packages (from sqlalchemy>=2.0->ipython-sql) (4.12.2)\n",
      "Requirement already satisfied: greenlet!=0.4.17 in c:\\users\\gerard.vanbeek\\appdata\\local\\packages\\pythonsoftwarefoundation.python.3.8_qbz5n2kfra8p0\\localcache\\local-packages\\python38\\site-packages (from sqlalchemy>=2.0->ipython-sql) (3.1.1)\n",
      "Requirement already satisfied: backcall in c:\\users\\gerard.vanbeek\\appdata\\local\\packages\\pythonsoftwarefoundation.python.3.8_qbz5n2kfra8p0\\localcache\\local-packages\\python38\\site-packages (from ipython->ipython-sql) (0.2.0)\n",
      "Requirement already satisfied: decorator in c:\\users\\gerard.vanbeek\\appdata\\local\\packages\\pythonsoftwarefoundation.python.3.8_qbz5n2kfra8p0\\localcache\\local-packages\\python38\\site-packages (from ipython->ipython-sql) (5.1.1)\n",
      "Requirement already satisfied: jedi>=0.16 in c:\\users\\gerard.vanbeek\\appdata\\local\\packages\\pythonsoftwarefoundation.python.3.8_qbz5n2kfra8p0\\localcache\\local-packages\\python38\\site-packages (from ipython->ipython-sql) (0.19.2)\n",
      "Requirement already satisfied: matplotlib-inline in c:\\users\\gerard.vanbeek\\appdata\\local\\packages\\pythonsoftwarefoundation.python.3.8_qbz5n2kfra8p0\\localcache\\local-packages\\python38\\site-packages (from ipython->ipython-sql) (0.1.7)\n",
      "Requirement already satisfied: pickleshare in c:\\users\\gerard.vanbeek\\appdata\\local\\packages\\pythonsoftwarefoundation.python.3.8_qbz5n2kfra8p0\\localcache\\local-packages\\python38\\site-packages (from ipython->ipython-sql) (0.7.5)\n",
      "Requirement already satisfied: prompt-toolkit!=3.0.37,<3.1.0,>=3.0.30 in c:\\users\\gerard.vanbeek\\appdata\\local\\packages\\pythonsoftwarefoundation.python.3.8_qbz5n2kfra8p0\\localcache\\local-packages\\python38\\site-packages (from ipython->ipython-sql) (3.0.50)\n",
      "Requirement already satisfied: pygments>=2.4.0 in c:\\users\\gerard.vanbeek\\appdata\\local\\packages\\pythonsoftwarefoundation.python.3.8_qbz5n2kfra8p0\\localcache\\local-packages\\python38\\site-packages (from ipython->ipython-sql) (2.19.1)\n",
      "Requirement already satisfied: stack-data in c:\\users\\gerard.vanbeek\\appdata\\local\\packages\\pythonsoftwarefoundation.python.3.8_qbz5n2kfra8p0\\localcache\\local-packages\\python38\\site-packages (from ipython->ipython-sql) (0.6.3)\n",
      "Requirement already satisfied: traitlets>=5 in c:\\users\\gerard.vanbeek\\appdata\\local\\packages\\pythonsoftwarefoundation.python.3.8_qbz5n2kfra8p0\\localcache\\local-packages\\python38\\site-packages (from ipython->ipython-sql) (5.14.3)\n",
      "Requirement already satisfied: colorama in c:\\users\\gerard.vanbeek\\appdata\\local\\packages\\pythonsoftwarefoundation.python.3.8_qbz5n2kfra8p0\\localcache\\local-packages\\python38\\site-packages (from ipython->ipython-sql) (0.4.6)\n",
      "Requirement already satisfied: parso<0.9.0,>=0.8.4 in c:\\users\\gerard.vanbeek\\appdata\\local\\packages\\pythonsoftwarefoundation.python.3.8_qbz5n2kfra8p0\\localcache\\local-packages\\python38\\site-packages (from jedi>=0.16->ipython->ipython-sql) (0.8.4)\n",
      "Requirement already satisfied: executing>=1.2.0 in c:\\users\\gerard.vanbeek\\appdata\\local\\packages\\pythonsoftwarefoundation.python.3.8_qbz5n2kfra8p0\\localcache\\local-packages\\python38\\site-packages (from stack-data->ipython->ipython-sql) (2.2.0)\n",
      "Requirement already satisfied: asttokens>=2.1.0 in c:\\users\\gerard.vanbeek\\appdata\\local\\packages\\pythonsoftwarefoundation.python.3.8_qbz5n2kfra8p0\\localcache\\local-packages\\python38\\site-packages (from stack-data->ipython->ipython-sql) (3.0.0)\n",
      "Requirement already satisfied: pure-eval in c:\\users\\gerard.vanbeek\\appdata\\local\\packages\\pythonsoftwarefoundation.python.3.8_qbz5n2kfra8p0\\localcache\\local-packages\\python38\\site-packages (from stack-data->ipython->ipython-sql) (0.2.3)\n"
     ]
    }
   ],
   "source": [
    "!pip install ipython-sql prettytable\n",
    "\n",
    "import prettytable\n",
    "\n",
    "prettytable.DEFAULT = 'DEFAULT'"
   ]
  },
  {
   "cell_type": "markdown",
   "id": "3d8e2a90-01d0-4cec-bb8a-f3c152262c0e",
   "metadata": {},
   "source": [
    "### Store the datasets in database tables\n",
    "\n",
    "To analyze the data using SQL, it first needs to be loaded into SQLite DB.\n",
    "We will create three tables in as under:\n",
    "\n",
    "1.  **CENSUS_DATA**\n",
    "2.  **CHICAGO_PUBLIC_SCHOOLS**\n",
    "3.  **CHICAGO_CRIME_DATA**\n"
   ]
  },
  {
   "cell_type": "markdown",
   "id": "19acd637-3e73-451e-95e8-fcd06427c4ab",
   "metadata": {},
   "source": [
    "Load the `pandas` and `sqlite3` libraries and establish a connection to `FinalDB.db`\n"
   ]
  },
  {
   "cell_type": "code",
   "execution_count": 2,
   "id": "160c58b3-fd0c-4cbc-96d3-a352c0e4c1ca",
   "metadata": {},
   "outputs": [],
   "source": [
    "import pandas, sqlite3\n",
    "conn = sqlite3.connect('FinalDB.db')\n",
    "cursor = conn.cursor()"
   ]
  },
  {
   "cell_type": "markdown",
   "id": "510a0699-0f95-4b55-9c9c-8fbea8dec975",
   "metadata": {},
   "source": [
    "Load the SQL magic module\n"
   ]
  },
  {
   "cell_type": "code",
   "execution_count": 3,
   "id": "3a5cdd47-86f4-42bf-9001-d3f07c07e2ce",
   "metadata": {},
   "outputs": [
    {
     "name": "stdout",
     "output_type": "stream",
     "text": [
      "Requirement already satisfied: ipython-sql in c:\\users\\gerard.vanbeek\\appdata\\local\\packages\\pythonsoftwarefoundation.python.3.8_qbz5n2kfra8p0\\localcache\\local-packages\\python38\\site-packages (0.5.0)\n",
      "Requirement already satisfied: prettytable in c:\\users\\gerard.vanbeek\\appdata\\local\\packages\\pythonsoftwarefoundation.python.3.8_qbz5n2kfra8p0\\localcache\\local-packages\\python38\\site-packages (from ipython-sql) (3.11.0)\n",
      "Requirement already satisfied: ipython in c:\\users\\gerard.vanbeek\\appdata\\local\\packages\\pythonsoftwarefoundation.python.3.8_qbz5n2kfra8p0\\localcache\\local-packages\\python38\\site-packages (from ipython-sql) (8.12.3)\n",
      "Requirement already satisfied: sqlalchemy>=2.0 in c:\\users\\gerard.vanbeek\\appdata\\local\\packages\\pythonsoftwarefoundation.python.3.8_qbz5n2kfra8p0\\localcache\\local-packages\\python38\\site-packages (from ipython-sql) (2.0.38)\n",
      "Requirement already satisfied: sqlparse in c:\\users\\gerard.vanbeek\\appdata\\local\\packages\\pythonsoftwarefoundation.python.3.8_qbz5n2kfra8p0\\localcache\\local-packages\\python38\\site-packages (from ipython-sql) (0.5.3)\n",
      "Requirement already satisfied: six in c:\\users\\gerard.vanbeek\\appdata\\local\\packages\\pythonsoftwarefoundation.python.3.8_qbz5n2kfra8p0\\localcache\\local-packages\\python38\\site-packages (from ipython-sql) (1.17.0)\n",
      "Requirement already satisfied: ipython-genutils in c:\\users\\gerard.vanbeek\\appdata\\local\\packages\\pythonsoftwarefoundation.python.3.8_qbz5n2kfra8p0\\localcache\\local-packages\\python38\\site-packages (from ipython-sql) (0.2.0)\n",
      "Requirement already satisfied: typing-extensions>=4.6.0 in c:\\users\\gerard.vanbeek\\appdata\\local\\packages\\pythonsoftwarefoundation.python.3.8_qbz5n2kfra8p0\\localcache\\local-packages\\python38\\site-packages (from sqlalchemy>=2.0->ipython-sql) (4.12.2)\n",
      "Requirement already satisfied: greenlet!=0.4.17 in c:\\users\\gerard.vanbeek\\appdata\\local\\packages\\pythonsoftwarefoundation.python.3.8_qbz5n2kfra8p0\\localcache\\local-packages\\python38\\site-packages (from sqlalchemy>=2.0->ipython-sql) (3.1.1)\n",
      "Requirement already satisfied: backcall in c:\\users\\gerard.vanbeek\\appdata\\local\\packages\\pythonsoftwarefoundation.python.3.8_qbz5n2kfra8p0\\localcache\\local-packages\\python38\\site-packages (from ipython->ipython-sql) (0.2.0)\n",
      "Requirement already satisfied: decorator in c:\\users\\gerard.vanbeek\\appdata\\local\\packages\\pythonsoftwarefoundation.python.3.8_qbz5n2kfra8p0\\localcache\\local-packages\\python38\\site-packages (from ipython->ipython-sql) (5.1.1)\n",
      "Requirement already satisfied: jedi>=0.16 in c:\\users\\gerard.vanbeek\\appdata\\local\\packages\\pythonsoftwarefoundation.python.3.8_qbz5n2kfra8p0\\localcache\\local-packages\\python38\\site-packages (from ipython->ipython-sql) (0.19.2)\n",
      "Requirement already satisfied: matplotlib-inline in c:\\users\\gerard.vanbeek\\appdata\\local\\packages\\pythonsoftwarefoundation.python.3.8_qbz5n2kfra8p0\\localcache\\local-packages\\python38\\site-packages (from ipython->ipython-sql) (0.1.7)\n",
      "Requirement already satisfied: pickleshare in c:\\users\\gerard.vanbeek\\appdata\\local\\packages\\pythonsoftwarefoundation.python.3.8_qbz5n2kfra8p0\\localcache\\local-packages\\python38\\site-packages (from ipython->ipython-sql) (0.7.5)\n",
      "Requirement already satisfied: prompt-toolkit!=3.0.37,<3.1.0,>=3.0.30 in c:\\users\\gerard.vanbeek\\appdata\\local\\packages\\pythonsoftwarefoundation.python.3.8_qbz5n2kfra8p0\\localcache\\local-packages\\python38\\site-packages (from ipython->ipython-sql) (3.0.50)\n",
      "Requirement already satisfied: pygments>=2.4.0 in c:\\users\\gerard.vanbeek\\appdata\\local\\packages\\pythonsoftwarefoundation.python.3.8_qbz5n2kfra8p0\\localcache\\local-packages\\python38\\site-packages (from ipython->ipython-sql) (2.19.1)\n",
      "Requirement already satisfied: stack-data in c:\\users\\gerard.vanbeek\\appdata\\local\\packages\\pythonsoftwarefoundation.python.3.8_qbz5n2kfra8p0\\localcache\\local-packages\\python38\\site-packages (from ipython->ipython-sql) (0.6.3)\n",
      "Requirement already satisfied: traitlets>=5 in c:\\users\\gerard.vanbeek\\appdata\\local\\packages\\pythonsoftwarefoundation.python.3.8_qbz5n2kfra8p0\\localcache\\local-packages\\python38\\site-packages (from ipython->ipython-sql) (5.14.3)\n",
      "Requirement already satisfied: colorama in c:\\users\\gerard.vanbeek\\appdata\\local\\packages\\pythonsoftwarefoundation.python.3.8_qbz5n2kfra8p0\\localcache\\local-packages\\python38\\site-packages (from ipython->ipython-sql) (0.4.6)\n",
      "Requirement already satisfied: wcwidth in c:\\users\\gerard.vanbeek\\appdata\\local\\packages\\pythonsoftwarefoundation.python.3.8_qbz5n2kfra8p0\\localcache\\local-packages\\python38\\site-packages (from prettytable->ipython-sql) (0.2.13)\n",
      "Requirement already satisfied: parso<0.9.0,>=0.8.4 in c:\\users\\gerard.vanbeek\\appdata\\local\\packages\\pythonsoftwarefoundation.python.3.8_qbz5n2kfra8p0\\localcache\\local-packages\\python38\\site-packages (from jedi>=0.16->ipython->ipython-sql) (0.8.4)\n",
      "Requirement already satisfied: executing>=1.2.0 in c:\\users\\gerard.vanbeek\\appdata\\local\\packages\\pythonsoftwarefoundation.python.3.8_qbz5n2kfra8p0\\localcache\\local-packages\\python38\\site-packages (from stack-data->ipython->ipython-sql) (2.2.0)\n",
      "Requirement already satisfied: asttokens>=2.1.0 in c:\\users\\gerard.vanbeek\\appdata\\local\\packages\\pythonsoftwarefoundation.python.3.8_qbz5n2kfra8p0\\localcache\\local-packages\\python38\\site-packages (from stack-data->ipython->ipython-sql) (3.0.0)\n",
      "Requirement already satisfied: pure-eval in c:\\users\\gerard.vanbeek\\appdata\\local\\packages\\pythonsoftwarefoundation.python.3.8_qbz5n2kfra8p0\\localcache\\local-packages\\python38\\site-packages (from stack-data->ipython->ipython-sql) (0.2.3)\n"
     ]
    }
   ],
   "source": [
    "!pip install ipython-sql\n",
    "%load_ext sql"
   ]
  },
  {
   "cell_type": "markdown",
   "id": "5b4e9540-4247-47a9-a188-e6a9e1444a64",
   "metadata": {},
   "source": [
    "Use `Pandas` to load the data available in the links above to dataframes. Use these dataframes to load data on to the database `FinalDB.db` as required tables.\n"
   ]
  },
  {
   "cell_type": "code",
   "execution_count": 7,
   "id": "6ab835f9-ba37-4bf1-b732-7a3404185166",
   "metadata": {},
   "outputs": [
    {
     "data": {
      "text/plain": [
       "533"
      ]
     },
     "execution_count": 7,
     "metadata": {},
     "output_type": "execute_result"
    }
   ],
   "source": [
    "table1 = pandas.read_csv('https://cf-courses-data.s3.us.cloud-object-storage.appdomain.cloud/IBMDeveloperSkillsNetwork-DB0201EN-SkillsNetwork/labs/FinalModule_Coursera_V5/data/ChicagoCensusData.csv?utm_medium=Exinfluencer&utm_source=Exinfluencer&utm_content=000026UJ&utm_term=10006555&utm_id=NA-SkillsNetwork-Channel-SkillsNetworkCoursesIBMDeveloperSkillsNetworkDB0201ENSkillsNetwork20127838-2021-01-01')\n",
    "table1.to_sql('CENSUS_DATA', conn, if_exists='replace', index=False)\n",
    "table2 = pandas.read_csv('https://cf-courses-data.s3.us.cloud-object-storage.appdomain.cloud/IBMDeveloperSkillsNetwork-DB0201EN-SkillsNetwork/labs/FinalModule_Coursera_V5/data/ChicagoPublicSchools.csv?utm_medium=Exinfluencer&utm_source=Exinfluencer&utm_content=000026UJ&utm_term=10006555&utm_id=NA-SkillsNetwork-Channel-SkillsNetworkCoursesIBMDeveloperSkillsNetworkDB0201ENSkillsNetwork20127838-2021-01-01')\n",
    "table2.to_sql('CHICAGO_PUBLIC_SCHOOLS', conn, if_exists='replace', index=False)\n",
    "table3 = pandas.read_csv('https://cf-courses-data.s3.us.cloud-object-storage.appdomain.cloud/IBMDeveloperSkillsNetwork-DB0201EN-SkillsNetwork/labs/FinalModule_Coursera_V5/data/ChicagoCrimeData.csv?utm_medium=Exinfluencer&utm_source=Exinfluencer&utm_content=000026UJ&utm_term=10006555&utm_id=NA-SkillsNetwork-Channel-SkillsNetworkCoursesIBMDeveloperSkillsNetworkDB0201ENSkillsNetwork20127838-2021-01-01')\n",
    "table3.to_sql('CHICAGO_CRIME_DATA', conn, if_exists='replace', index=False)"
   ]
  },
  {
   "cell_type": "markdown",
   "id": "2448eeb5-12e6-4898-8e31-832a93785e7a",
   "metadata": {},
   "source": [
    "Establish a connection between SQL magic module and the database `FinalDB.db`\n"
   ]
  },
  {
   "cell_type": "code",
   "execution_count": 5,
   "id": "d840ed53-d257-46e9-af7c-92ea3b1e6507",
   "metadata": {},
   "outputs": [],
   "source": [
    "%sql sqlite:///FinalDB.db"
   ]
  },
  {
   "cell_type": "markdown",
   "id": "fa2690d5-7f74-40c1-8504-7156d7a928c3",
   "metadata": {},
   "source": [
    "You can now proceed to the the following questions. Please note that a graded assignment will follow this lab and there will be a question on each of the problems stated below. It can be from the answer you received or the code you write for this problem. Therefore, please keep a note of both your codes as well as the response you generate.\n"
   ]
  },
  {
   "cell_type": "markdown",
   "id": "643b317b-661f-4f02-9272-cc6f20d1bfae",
   "metadata": {},
   "source": [
    "## Problems\n",
    "\n",
    "Now write and execute SQL queries to solve assignment problems\n",
    "\n",
    "### Problem 1\n",
    "\n",
    "##### Find the total number of crimes recorded in the CRIME table.\n"
   ]
  },
  {
   "cell_type": "code",
   "execution_count": 16,
   "id": "1de22411-3b11-4823-abc8-352625c1573d",
   "metadata": {},
   "outputs": [
    {
     "name": "stdout",
     "output_type": "stream",
     "text": [
      " * sqlite:///FinalDB.db\n",
      "Done.\n"
     ]
    },
    {
     "data": {
      "text/html": [
       "<table>\n",
       "    <thead>\n",
       "        <tr>\n",
       "            <th>COMMUNITY_AREA_NUMBER</th>\n",
       "            <th>COMMUNITY_AREA_NAME</th>\n",
       "            <th>PERCENT_OF_HOUSING_CROWDED</th>\n",
       "            <th>PERCENT_HOUSEHOLDS_BELOW_POVERTY</th>\n",
       "            <th>PERCENT_AGED_16__UNEMPLOYED</th>\n",
       "            <th>PERCENT_AGED_25__WITHOUT_HIGH_SCHOOL_DIPLOMA</th>\n",
       "            <th>PERCENT_AGED_UNDER_18_OR_OVER_64</th>\n",
       "            <th>PER_CAPITA_INCOME</th>\n",
       "            <th>HARDSHIP_INDEX</th>\n",
       "        </tr>\n",
       "    </thead>\n",
       "    <tbody>\n",
       "        <tr>\n",
       "            <td>1.0</td>\n",
       "            <td>Rogers Park</td>\n",
       "            <td>7.7</td>\n",
       "            <td>23.6</td>\n",
       "            <td>8.7</td>\n",
       "            <td>18.2</td>\n",
       "            <td>27.5</td>\n",
       "            <td>23939</td>\n",
       "            <td>39.0</td>\n",
       "        </tr>\n",
       "        <tr>\n",
       "            <td>2.0</td>\n",
       "            <td>West Ridge</td>\n",
       "            <td>7.8</td>\n",
       "            <td>17.2</td>\n",
       "            <td>8.8</td>\n",
       "            <td>20.8</td>\n",
       "            <td>38.5</td>\n",
       "            <td>23040</td>\n",
       "            <td>46.0</td>\n",
       "        </tr>\n",
       "        <tr>\n",
       "            <td>3.0</td>\n",
       "            <td>Uptown</td>\n",
       "            <td>3.8</td>\n",
       "            <td>24.0</td>\n",
       "            <td>8.9</td>\n",
       "            <td>11.8</td>\n",
       "            <td>22.2</td>\n",
       "            <td>35787</td>\n",
       "            <td>20.0</td>\n",
       "        </tr>\n",
       "        <tr>\n",
       "            <td>4.0</td>\n",
       "            <td>Lincoln Square</td>\n",
       "            <td>3.4</td>\n",
       "            <td>10.9</td>\n",
       "            <td>8.2</td>\n",
       "            <td>13.4</td>\n",
       "            <td>25.5</td>\n",
       "            <td>37524</td>\n",
       "            <td>17.0</td>\n",
       "        </tr>\n",
       "        <tr>\n",
       "            <td>5.0</td>\n",
       "            <td>North Center</td>\n",
       "            <td>0.3</td>\n",
       "            <td>7.5</td>\n",
       "            <td>5.2</td>\n",
       "            <td>4.5</td>\n",
       "            <td>26.2</td>\n",
       "            <td>57123</td>\n",
       "            <td>6.0</td>\n",
       "        </tr>\n",
       "    </tbody>\n",
       "</table>"
      ],
      "text/plain": [
       "[(1.0, 'Rogers Park', 7.7, 23.6, 8.7, 18.2, 27.5, 23939, 39.0),\n",
       " (2.0, 'West Ridge', 7.8, 17.2, 8.8, 20.8, 38.5, 23040, 46.0),\n",
       " (3.0, 'Uptown', 3.8, 24.0, 8.9, 11.8, 22.2, 35787, 20.0),\n",
       " (4.0, 'Lincoln Square', 3.4, 10.9, 8.2, 13.4, 25.5, 37524, 17.0),\n",
       " (5.0, 'North Center', 0.3, 7.5, 5.2, 4.5, 26.2, 57123, 6.0)]"
      ]
     },
     "execution_count": 16,
     "metadata": {},
     "output_type": "execute_result"
    }
   ],
   "source": [
    "%sql select * from CENSUS_DATA limit 5"
   ]
  },
  {
   "cell_type": "markdown",
   "id": "087878d7-170c-4e02-9ea2-2e349aff0418",
   "metadata": {},
   "source": [
    "### Problem 2\n",
    "\n",
    "##### List community area names and numbers with per capita income less than 11000.\n"
   ]
  },
  {
   "cell_type": "code",
   "execution_count": 13,
   "id": "c404b402-871f-409c-aad7-a25fa4975f06",
   "metadata": {},
   "outputs": [
    {
     "name": "stdout",
     "output_type": "stream",
     "text": [
      " * sqlite:///FinalDB.db\n",
      "Done.\n"
     ]
    },
    {
     "data": {
      "text/html": [
       "<table>\n",
       "    <thead>\n",
       "        <tr>\n",
       "            <th>COMMUNITY_AREA_NUMBER</th>\n",
       "            <th>COMMUNITY_AREA_NAME</th>\n",
       "        </tr>\n",
       "    </thead>\n",
       "    <tbody>\n",
       "        <tr>\n",
       "            <td>26.0</td>\n",
       "            <td>West Garfield Park</td>\n",
       "        </tr>\n",
       "        <tr>\n",
       "            <td>30.0</td>\n",
       "            <td>South Lawndale</td>\n",
       "        </tr>\n",
       "        <tr>\n",
       "            <td>37.0</td>\n",
       "            <td>Fuller Park</td>\n",
       "        </tr>\n",
       "        <tr>\n",
       "            <td>54.0</td>\n",
       "            <td>Riverdale</td>\n",
       "        </tr>\n",
       "    </tbody>\n",
       "</table>"
      ],
      "text/plain": [
       "[(26.0, 'West Garfield Park'),\n",
       " (30.0, 'South Lawndale'),\n",
       " (37.0, 'Fuller Park'),\n",
       " (54.0, 'Riverdale')]"
      ]
     },
     "execution_count": 13,
     "metadata": {},
     "output_type": "execute_result"
    }
   ],
   "source": [
    "%sql select community_area_number, community_area_name from CENSUS_DATA where per_capita_income < 11000    "
   ]
  },
  {
   "cell_type": "markdown",
   "id": "71ec70a6-4e33-4ab1-ac74-2fb8ecba903f",
   "metadata": {},
   "source": [
    "### Problem 3\n",
    "\n",
    "##### List all case numbers for crimes involving minors?(children are not considered minors for the purposes of crime analysis) \n"
   ]
  },
  {
   "cell_type": "code",
   "execution_count": null,
   "id": "cc12c9e7-b1dd-4021-ac54-01ddb57d537f",
   "metadata": {},
   "outputs": [],
   "source": []
  },
  {
   "cell_type": "markdown",
   "id": "154da755-1ebb-49e5-a0a5-a611fcfea7a0",
   "metadata": {},
   "source": [
    "### Problem 4\n",
    "\n",
    "##### List all kidnapping crimes involving a child?\n"
   ]
  },
  {
   "cell_type": "code",
   "execution_count": 20,
   "id": "31baf0e8-5367-4f23-af98-07af0a1e2c33",
   "metadata": {},
   "outputs": [
    {
     "name": "stdout",
     "output_type": "stream",
     "text": [
      " * sqlite:///FinalDB.db\n",
      "Done.\n"
     ]
    },
    {
     "data": {
      "text/html": [
       "<table>\n",
       "    <thead>\n",
       "        <tr>\n",
       "            <th>ID</th>\n",
       "            <th>CASE_NUMBER</th>\n",
       "            <th>DATE</th>\n",
       "            <th>BLOCK</th>\n",
       "            <th>IUCR</th>\n",
       "            <th>PRIMARY_TYPE</th>\n",
       "            <th>DESCRIPTION</th>\n",
       "            <th>LOCATION_DESCRIPTION</th>\n",
       "            <th>ARREST</th>\n",
       "            <th>DOMESTIC</th>\n",
       "            <th>BEAT</th>\n",
       "            <th>DISTRICT</th>\n",
       "            <th>WARD</th>\n",
       "            <th>COMMUNITY_AREA_NUMBER</th>\n",
       "            <th>FBICODE</th>\n",
       "            <th>X_COORDINATE</th>\n",
       "            <th>Y_COORDINATE</th>\n",
       "            <th>YEAR</th>\n",
       "            <th>LATITUDE</th>\n",
       "            <th>LONGITUDE</th>\n",
       "            <th>LOCATION</th>\n",
       "        </tr>\n",
       "    </thead>\n",
       "    <tbody>\n",
       "        <tr>\n",
       "            <td>5276766</td>\n",
       "            <td>HN144152</td>\n",
       "            <td>2007-01-26</td>\n",
       "            <td>050XX W VAN BUREN ST</td>\n",
       "            <td>1792</td>\n",
       "            <td>KIDNAPPING</td>\n",
       "            <td>CHILD ABDUCTION/STRANGER</td>\n",
       "            <td>STREET</td>\n",
       "            <td>0</td>\n",
       "            <td>0</td>\n",
       "            <td>1533</td>\n",
       "            <td>15</td>\n",
       "            <td>29.0</td>\n",
       "            <td>25.0</td>\n",
       "            <td>20</td>\n",
       "            <td>1143050.0</td>\n",
       "            <td>1897546.0</td>\n",
       "            <td>2007</td>\n",
       "            <td>41.87490841</td>\n",
       "            <td>-87.75024931</td>\n",
       "            <td>(41.874908413, -87.750249307)</td>\n",
       "        </tr>\n",
       "    </tbody>\n",
       "</table>"
      ],
      "text/plain": [
       "[(5276766, 'HN144152', '2007-01-26', '050XX W VAN BUREN ST', '1792', 'KIDNAPPING', 'CHILD ABDUCTION/STRANGER', 'STREET', 0, 0, 1533, 15, 29.0, 25.0, '20', 1143050.0, 1897546.0, 2007, 41.87490841, -87.75024931, '(41.874908413, -87.750249307)')]"
      ]
     },
     "execution_count": 20,
     "metadata": {},
     "output_type": "execute_result"
    }
   ],
   "source": [
    "%sql SELECT * FROM CHICAGO_CRIME_DATA WHERE PRIMARY_TYPE = 'KIDNAPPING' AND description like '%child%' "
   ]
  },
  {
   "cell_type": "markdown",
   "id": "1b1bf6ce-beed-4e60-a12c-7fcbdadf8fe0",
   "metadata": {},
   "source": [
    "### Problem 5\n",
    "\n",
    "##### List the kind of crimes that were recorded at schools. (No repetitions)\n"
   ]
  },
  {
   "cell_type": "code",
   "execution_count": 24,
   "id": "5780b5f7-a71d-415c-be7a-02282f451036",
   "metadata": {},
   "outputs": [
    {
     "name": "stdout",
     "output_type": "stream",
     "text": [
      " * sqlite:///FinalDB.db\n",
      "Done.\n"
     ]
    },
    {
     "data": {
      "text/html": [
       "<table>\n",
       "    <thead>\n",
       "        <tr>\n",
       "            <th>ID</th>\n",
       "            <th>CASE_NUMBER</th>\n",
       "            <th>DATE</th>\n",
       "            <th>BLOCK</th>\n",
       "            <th>IUCR</th>\n",
       "            <th>PRIMARY_TYPE</th>\n",
       "            <th>DESCRIPTION</th>\n",
       "            <th>LOCATION_DESCRIPTION</th>\n",
       "            <th>ARREST</th>\n",
       "            <th>DOMESTIC</th>\n",
       "            <th>BEAT</th>\n",
       "            <th>DISTRICT</th>\n",
       "            <th>WARD</th>\n",
       "            <th>COMMUNITY_AREA_NUMBER</th>\n",
       "            <th>FBICODE</th>\n",
       "            <th>X_COORDINATE</th>\n",
       "            <th>Y_COORDINATE</th>\n",
       "            <th>YEAR</th>\n",
       "            <th>LATITUDE</th>\n",
       "            <th>LONGITUDE</th>\n",
       "            <th>LOCATION</th>\n",
       "        </tr>\n",
       "    </thead>\n",
       "    <tbody>\n",
       "        <tr>\n",
       "            <td>3512276</td>\n",
       "            <td>HK587712</td>\n",
       "            <td>2004-08-28</td>\n",
       "            <td>047XX S KEDZIE AVE</td>\n",
       "            <td>890</td>\n",
       "            <td>THEFT</td>\n",
       "            <td>FROM BUILDING</td>\n",
       "            <td>SMALL RETAIL STORE</td>\n",
       "            <td>0</td>\n",
       "            <td>0</td>\n",
       "            <td>911</td>\n",
       "            <td>9</td>\n",
       "            <td>14.0</td>\n",
       "            <td>58.0</td>\n",
       "            <td>6</td>\n",
       "            <td>1155838.0</td>\n",
       "            <td>1873050.0</td>\n",
       "            <td>2004</td>\n",
       "            <td>41.8074405</td>\n",
       "            <td>-87.70395585</td>\n",
       "            <td>(41.8074405, -87.703955849)</td>\n",
       "        </tr>\n",
       "        <tr>\n",
       "            <td>3406613</td>\n",
       "            <td>HK456306</td>\n",
       "            <td>2004-06-26</td>\n",
       "            <td>009XX N CENTRAL PARK AVE</td>\n",
       "            <td>820</td>\n",
       "            <td>THEFT</td>\n",
       "            <td>$500 AND UNDER</td>\n",
       "            <td>OTHER</td>\n",
       "            <td>0</td>\n",
       "            <td>0</td>\n",
       "            <td>1112</td>\n",
       "            <td>11</td>\n",
       "            <td>27.0</td>\n",
       "            <td>23.0</td>\n",
       "            <td>6</td>\n",
       "            <td>1152206.0</td>\n",
       "            <td>1906127.0</td>\n",
       "            <td>2004</td>\n",
       "            <td>41.89827996</td>\n",
       "            <td>-87.71640551</td>\n",
       "            <td>(41.898279962, -87.716405505)</td>\n",
       "        </tr>\n",
       "        <tr>\n",
       "            <td>8002131</td>\n",
       "            <td>HT233595</td>\n",
       "            <td>2011-04-04</td>\n",
       "            <td>043XX S WABASH AVE</td>\n",
       "            <td>820</td>\n",
       "            <td>THEFT</td>\n",
       "            <td>$500 AND UNDER</td>\n",
       "            <td>NURSING HOME/RETIREMENT HOME</td>\n",
       "            <td>0</td>\n",
       "            <td>0</td>\n",
       "            <td>221</td>\n",
       "            <td>2</td>\n",
       "            <td>3.0</td>\n",
       "            <td>38.0</td>\n",
       "            <td>6</td>\n",
       "            <td>1177436.0</td>\n",
       "            <td>1876313.0</td>\n",
       "            <td>2011</td>\n",
       "            <td>41.81593313</td>\n",
       "            <td>-87.62464213</td>\n",
       "            <td>(41.815933131, -87.624642127)</td>\n",
       "        </tr>\n",
       "        <tr>\n",
       "            <td>7903289</td>\n",
       "            <td>HT133522</td>\n",
       "            <td>2010-12-30</td>\n",
       "            <td>083XX S KINGSTON AVE</td>\n",
       "            <td>840</td>\n",
       "            <td>THEFT</td>\n",
       "            <td>FINANCIAL ID THEFT: OVER $300</td>\n",
       "            <td>RESIDENCE</td>\n",
       "            <td>0</td>\n",
       "            <td>0</td>\n",
       "            <td>423</td>\n",
       "            <td>4</td>\n",
       "            <td>7.0</td>\n",
       "            <td>46.0</td>\n",
       "            <td>6</td>\n",
       "            <td>1194622.0</td>\n",
       "            <td>1850125.0</td>\n",
       "            <td>2010</td>\n",
       "            <td>41.74366532</td>\n",
       "            <td>-87.56246276</td>\n",
       "            <td>(41.743665322, -87.562462756)</td>\n",
       "        </tr>\n",
       "        <tr>\n",
       "            <td>10402076</td>\n",
       "            <td>HZ138551</td>\n",
       "            <td>2016-02-02</td>\n",
       "            <td>033XX W 66TH ST</td>\n",
       "            <td>820</td>\n",
       "            <td>THEFT</td>\n",
       "            <td>$500 AND UNDER</td>\n",
       "            <td>ALLEY</td>\n",
       "            <td>0</td>\n",
       "            <td>0</td>\n",
       "            <td>831</td>\n",
       "            <td>8</td>\n",
       "            <td>15.0</td>\n",
       "            <td>66.0</td>\n",
       "            <td>6</td>\n",
       "            <td>1155240.0</td>\n",
       "            <td>1860661.0</td>\n",
       "            <td>2016</td>\n",
       "            <td>41.7734553</td>\n",
       "            <td>-87.70648047</td>\n",
       "            <td>(41.773455295, -87.706480471)</td>\n",
       "        </tr>\n",
       "        <tr>\n",
       "            <td>7732712</td>\n",
       "            <td>HS540106</td>\n",
       "            <td>2010-09-29</td>\n",
       "            <td>006XX W CHICAGO AVE</td>\n",
       "            <td>810</td>\n",
       "            <td>THEFT</td>\n",
       "            <td>OVER $500</td>\n",
       "            <td>PARKING LOT/GARAGE(NON.RESID.)</td>\n",
       "            <td>0</td>\n",
       "            <td>0</td>\n",
       "            <td>1323</td>\n",
       "            <td>12</td>\n",
       "            <td>27.0</td>\n",
       "            <td>24.0</td>\n",
       "            <td>6</td>\n",
       "            <td>1171668.0</td>\n",
       "            <td>1905607.0</td>\n",
       "            <td>2010</td>\n",
       "            <td>41.89644677</td>\n",
       "            <td>-87.64493868</td>\n",
       "            <td>(41.896446772, -87.644938678)</td>\n",
       "        </tr>\n",
       "        <tr>\n",
       "            <td>10769475</td>\n",
       "            <td>HZ534771</td>\n",
       "            <td>2016-11-30</td>\n",
       "            <td>050XX N KEDZIE AVE</td>\n",
       "            <td>810</td>\n",
       "            <td>THEFT</td>\n",
       "            <td>OVER $500</td>\n",
       "            <td>STREET</td>\n",
       "            <td>0</td>\n",
       "            <td>0</td>\n",
       "            <td>1713</td>\n",
       "            <td>17</td>\n",
       "            <td>33.0</td>\n",
       "            <td>14.0</td>\n",
       "            <td>6</td>\n",
       "            <td>1154133.0</td>\n",
       "            <td>1933314.0</td>\n",
       "            <td>2016</td>\n",
       "            <td>41.97284491</td>\n",
       "            <td>-87.70860008</td>\n",
       "            <td>(41.972844913, -87.708600079)</td>\n",
       "        </tr>\n",
       "        <tr>\n",
       "            <td>4494340</td>\n",
       "            <td>HL793243</td>\n",
       "            <td>2005-12-16</td>\n",
       "            <td>005XX E PERSHING RD</td>\n",
       "            <td>860</td>\n",
       "            <td>THEFT</td>\n",
       "            <td>RETAIL THEFT</td>\n",
       "            <td>GROCERY FOOD STORE</td>\n",
       "            <td>1</td>\n",
       "            <td>0</td>\n",
       "            <td>213</td>\n",
       "            <td>2</td>\n",
       "            <td>3.0</td>\n",
       "            <td>38.0</td>\n",
       "            <td>6</td>\n",
       "            <td>1180448.0</td>\n",
       "            <td>1879234.0</td>\n",
       "            <td>2005</td>\n",
       "            <td>41.82387989</td>\n",
       "            <td>-87.61350386</td>\n",
       "            <td>(41.823879885, -87.613503857)</td>\n",
       "        </tr>\n",
       "        <tr>\n",
       "            <td>3778925</td>\n",
       "            <td>HL149610</td>\n",
       "            <td>2005-01-28</td>\n",
       "            <td>100XX S WASHTENAW AVE</td>\n",
       "            <td>810</td>\n",
       "            <td>THEFT</td>\n",
       "            <td>OVER $500</td>\n",
       "            <td>STREET</td>\n",
       "            <td>0</td>\n",
       "            <td>0</td>\n",
       "            <td>2211</td>\n",
       "            <td>22</td>\n",
       "            <td>19.0</td>\n",
       "            <td>72.0</td>\n",
       "            <td>6</td>\n",
       "            <td>1160129.0</td>\n",
       "            <td>1838040.0</td>\n",
       "            <td>2005</td>\n",
       "            <td>41.71128051</td>\n",
       "            <td>-87.6891791</td>\n",
       "            <td>(41.711280513, -87.689179097)</td>\n",
       "        </tr>\n",
       "        <tr>\n",
       "            <td>3324217</td>\n",
       "            <td>HK361551</td>\n",
       "            <td>2004-05-13</td>\n",
       "            <td>033XX W BELMONT AVE</td>\n",
       "            <td>820</td>\n",
       "            <td>THEFT</td>\n",
       "            <td>$500 AND UNDER</td>\n",
       "            <td>SMALL RETAIL STORE</td>\n",
       "            <td>0</td>\n",
       "            <td>0</td>\n",
       "            <td>1733</td>\n",
       "            <td>17</td>\n",
       "            <td>35.0</td>\n",
       "            <td>21.0</td>\n",
       "            <td>6</td>\n",
       "            <td>1153590.0</td>\n",
       "            <td>1921084.0</td>\n",
       "            <td>2004</td>\n",
       "            <td>41.93929582</td>\n",
       "            <td>-87.71092344</td>\n",
       "            <td>(41.939295821, -87.710923442)</td>\n",
       "        </tr>\n",
       "    </tbody>\n",
       "</table>"
      ],
      "text/plain": [
       "[(3512276, 'HK587712', '2004-08-28', '047XX S KEDZIE AVE', '890', 'THEFT', 'FROM BUILDING', 'SMALL RETAIL STORE', 0, 0, 911, 9, 14.0, 58.0, '6', 1155838.0, 1873050.0, 2004, 41.8074405, -87.70395585, '(41.8074405, -87.703955849)'),\n",
       " (3406613, 'HK456306', '2004-06-26', '009XX N CENTRAL PARK AVE', '820', 'THEFT', '$500 AND UNDER', 'OTHER', 0, 0, 1112, 11, 27.0, 23.0, '6', 1152206.0, 1906127.0, 2004, 41.89827996, -87.71640551, '(41.898279962, -87.716405505)'),\n",
       " (8002131, 'HT233595', '2011-04-04', '043XX S WABASH AVE', '820', 'THEFT', '$500 AND UNDER', 'NURSING HOME/RETIREMENT HOME', 0, 0, 221, 2, 3.0, 38.0, '6', 1177436.0, 1876313.0, 2011, 41.81593313, -87.62464213, '(41.815933131, -87.624642127)'),\n",
       " (7903289, 'HT133522', '2010-12-30', '083XX S KINGSTON AVE', '840', 'THEFT', 'FINANCIAL ID THEFT: OVER $300', 'RESIDENCE', 0, 0, 423, 4, 7.0, 46.0, '6', 1194622.0, 1850125.0, 2010, 41.74366532, -87.56246276, '(41.743665322, -87.562462756)'),\n",
       " (10402076, 'HZ138551', '2016-02-02', '033XX W 66TH ST', '820', 'THEFT', '$500 AND UNDER', 'ALLEY', 0, 0, 831, 8, 15.0, 66.0, '6', 1155240.0, 1860661.0, 2016, 41.7734553, -87.70648047, '(41.773455295, -87.706480471)'),\n",
       " (7732712, 'HS540106', '2010-09-29', '006XX W CHICAGO AVE', '810', 'THEFT', 'OVER $500', 'PARKING LOT/GARAGE(NON.RESID.)', 0, 0, 1323, 12, 27.0, 24.0, '6', 1171668.0, 1905607.0, 2010, 41.89644677, -87.64493868, '(41.896446772, -87.644938678)'),\n",
       " (10769475, 'HZ534771', '2016-11-30', '050XX N KEDZIE AVE', '810', 'THEFT', 'OVER $500', 'STREET', 0, 0, 1713, 17, 33.0, 14.0, '6', 1154133.0, 1933314.0, 2016, 41.97284491, -87.70860008, '(41.972844913, -87.708600079)'),\n",
       " (4494340, 'HL793243', '2005-12-16', '005XX E PERSHING RD', '860', 'THEFT', 'RETAIL THEFT', 'GROCERY FOOD STORE', 1, 0, 213, 2, 3.0, 38.0, '6', 1180448.0, 1879234.0, 2005, 41.82387989, -87.61350386, '(41.823879885, -87.613503857)'),\n",
       " (3778925, 'HL149610', '2005-01-28', '100XX S WASHTENAW AVE', '810', 'THEFT', 'OVER $500', 'STREET', 0, 0, 2211, 22, 19.0, 72.0, '6', 1160129.0, 1838040.0, 2005, 41.71128051, -87.6891791, '(41.711280513, -87.689179097)'),\n",
       " (3324217, 'HK361551', '2004-05-13', '033XX W BELMONT AVE', '820', 'THEFT', '$500 AND UNDER', 'SMALL RETAIL STORE', 0, 0, 1733, 17, 35.0, 21.0, '6', 1153590.0, 1921084.0, 2004, 41.93929582, -87.71092344, '(41.939295821, -87.710923442)')]"
      ]
     },
     "execution_count": 24,
     "metadata": {},
     "output_type": "execute_result"
    }
   ],
   "source": [
    "%sql select * from CHICAGO_CRIME_DATA limit 10"
   ]
  },
  {
   "cell_type": "markdown",
   "id": "79fb5931-d9a9-4682-a8d2-27e79787b4c4",
   "metadata": {},
   "source": [
    "### Problem 6\n",
    "\n",
    "##### List the type of schools along with the average safety score for each type.\n"
   ]
  },
  {
   "cell_type": "code",
   "execution_count": 38,
   "id": "b07434a2-7b18-47e4-bacf-89efcf08d788",
   "metadata": {},
   "outputs": [
    {
     "name": "stdout",
     "output_type": "stream",
     "text": [
      " * sqlite:///FinalDB.db\n",
      "(sqlite3.OperationalError) near \"or\": syntax error\n",
      "[SQL: SELECT Elementary, Middle, or High School FROM CHICAGO_PUBLIC_SCHOOLS WHERE Elementary, Middle, or High School = 'HS' LIMIT 5;]\n",
      "(Background on this error at: https://sqlalche.me/e/20/e3q8)\n"
     ]
    }
   ],
   "source": [
    "%sql SELECT \"Elementary, Middle, or High School\" FROM CHICAGO_PUBLIC_SCHOOLS WHERE \"Elementary, Middle, or High School\" = 'HS' LIMIT 5;"
   ]
  },
  {
   "cell_type": "markdown",
   "id": "da7adb06-5c12-4bc7-ad9d-f338e0a2cfc4",
   "metadata": {},
   "source": [
    "### Problem 7\n",
    "\n",
    "##### List 5 community areas with highest % of households below poverty line\n"
   ]
  },
  {
   "cell_type": "code",
   "execution_count": null,
   "id": "edee6225-92fa-4707-a2a4-5554cb1d5f50",
   "metadata": {},
   "outputs": [],
   "source": []
  },
  {
   "cell_type": "markdown",
   "id": "70500140-3615-42d2-9f07-8f9a65b4c55d",
   "metadata": {},
   "source": [
    "### Problem 8\n",
    "\n",
    "##### Which community area is most crime prone? Display the coumminty area number only.\n"
   ]
  },
  {
   "cell_type": "code",
   "execution_count": null,
   "id": "21cbd86f-5cdd-4229-a8e0-4624ce437b6e",
   "metadata": {},
   "outputs": [],
   "source": []
  },
  {
   "cell_type": "markdown",
   "id": "f2409681-e46e-4813-b22e-3a77dadd25a1",
   "metadata": {},
   "source": [
    "\n",
    "Double-click **here** for a hint\n",
    "\n",
    "<!--\n",
    "Query for the 'community area number' that has most number of incidents\n",
    "-->\n"
   ]
  },
  {
   "cell_type": "markdown",
   "id": "93d08e4b-8822-418c-9595-4ba7a5710df2",
   "metadata": {},
   "source": [
    "### Problem 9\n",
    "\n",
    "##### Use a sub-query to find the name of the community area with highest hardship index\n"
   ]
  },
  {
   "cell_type": "code",
   "execution_count": null,
   "id": "f3e290a6-a75c-4d78-875a-b8628ddf7726",
   "metadata": {},
   "outputs": [],
   "source": []
  },
  {
   "cell_type": "markdown",
   "id": "79248a13-8cf3-4cd5-93e6-a4e03fca6de3",
   "metadata": {},
   "source": [
    "### Problem 10\n",
    "\n",
    "##### Use a sub-query to determine the Community Area Name with most number of crimes?\n"
   ]
  },
  {
   "cell_type": "code",
   "execution_count": null,
   "id": "91fa8841-5219-412a-a7d5-0db0cbeeea5e",
   "metadata": {},
   "outputs": [],
   "source": []
  },
  {
   "cell_type": "markdown",
   "id": "86a49480-85ec-4fd9-b4c9-e9f3dae41452",
   "metadata": {},
   "source": [
    "## Author(s)\n",
    "\n",
    "<h4> Hima Vasudevan </h4>\n",
    "<h4> Rav Ahuja </h4>\n",
    "<h4> Ramesh Sannreddy </h4>\n",
    "\n",
    "## Contribtuor(s)\n",
    "\n",
    "<h4> Malika Singla </h4>\n",
    "<h4>Abhishek Gagneja</h4>\n",
    "<!--\n",
    "## Change log\n",
    "\n",
    "| Date       | Version | Changed by        | Change Description                             |\n",
    "| ---------- | ------- | ----------------- | ---------------------------------------------- |\n",
    "|2023-10-18  | 2.6     | Abhishek Gagneja  | Modified instruction set |\n",
    "| 2022-03-04 | 2.5     | Lakshmi Holla     | Changed markdown.                   |\n",
    "| 2021-05-19 | 2.4     | Lakshmi Holla     | Updated the question                           |\n",
    "| 2021-04-30 | 2.3     | Malika Singla     | Updated the libraries                          |\n",
    "| 2021-01-15 | 2.2     | Rav Ahuja         | Removed problem 11 and fixed changelog         |\n",
    "| 2020-11-25 | 2.1     | Ramesh Sannareddy | Updated the problem statements, and datasets   |\n",
    "| 2020-09-05 | 2.0     | Malika Singla     | Moved lab to course repo in GitLab             |\n",
    "| 2018-07-18 | 1.0     | Rav Ahuja         | Several updates including loading instructions |\n",
    "| 2018-05-04 | 0.1     | Hima Vasudevan    | Created initial version                        |\n",
    "-->\n",
    "## <h3 align=\"center\"> © IBM Corporation 2023. All rights reserved. <h3/>\n"
   ]
  }
 ],
 "metadata": {
  "kernelspec": {
   "display_name": "Python 3",
   "language": "python",
   "name": "python3"
  },
  "language_info": {
   "codemirror_mode": {
    "name": "ipython",
    "version": 3
   },
   "file_extension": ".py",
   "mimetype": "text/x-python",
   "name": "python",
   "nbconvert_exporter": "python",
   "pygments_lexer": "ipython3",
   "version": "3.8.10"
  },
  "prev_pub_hash": "1d4caa9dff548bba47d8f4339e735e64605120c41df87b27e2c5cffed5fd81c9"
 },
 "nbformat": 4,
 "nbformat_minor": 4
}
