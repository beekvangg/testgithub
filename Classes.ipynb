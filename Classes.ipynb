{
 "cells": [
  {
   "cell_type": "markdown",
   "metadata": {},
   "source": [
    "Let's start by defining a Car class that includes the following attributes and methods:\n",
    "- Class attribute max_speed, which is set to 120 km/h.\n",
    "\n",
    "- Constructor method __init__ that takes parameters for the car's make, model, color, and an optional speed (defaulting to 0). This method initializes instance attributes for make, model, color, and speed.\n",
    "\n",
    "- Method accelerate(self, acceleration) that allows the car to accelerate. If the acceleration does not exceed the max_speed, update the car's speed attribute. Otherwise, set the speed to the max_speed.\n",
    "\n",
    "- Method get_speed(self) that returns the current speed of the car."
   ]
  },
  {
   "cell_type": "code",
   "execution_count": 2,
   "metadata": {},
   "outputs": [],
   "source": [
    "class Car:\n",
    "    # Class attribute (shared by all instances)\n",
    "    max_speed = 120  # Maximum speed in km/h\n",
    "\n",
    "    # Constructor method (initialize instance attributes)\n",
    "    def __init__(self, make, model, color, speed=0):\n",
    "        self.make = make\n",
    "        self.model = model\n",
    "        self.color = color\n",
    "        self.speed = speed  # Initial speed is set to 0\n",
    "\n",
    "    # Method for accelerating the car\n",
    "    def accelerate(self, acceleration):\n",
    "        if self.speed + acceleration <= Car.max_speed:\n",
    "            self.speed += acceleration\n",
    "        else:\n",
    "            self.speed = Car.max_speed\n",
    "\n",
    "    # Method to get the current speed of the car\n",
    "    def get_speed(self):\n",
    "        return self.speed"
   ]
  },
  {
   "cell_type": "markdown",
   "metadata": {},
   "source": [
    "Now, two objects of the Car class will be initiated, each with the following characteristics:\n",
    "- car1: Make = \"Toyota\", Model = \"Camry\", Color = \"Blue\"\n",
    "\n",
    "- car2: Make = \"Honda\", Model = \"Civic\", Color = \"Red\""
   ]
  },
  {
   "cell_type": "code",
   "execution_count": 3,
   "metadata": {},
   "outputs": [],
   "source": [
    "# Create objects (instances) of the Car class\n",
    "car1 = Car(\"Toyota\", \"Camry\", \"Blue\")\n",
    "car2 = Car(\"Honda\", \"Civic\", \"Red\")"
   ]
  },
  {
   "cell_type": "markdown",
   "metadata": {},
   "source": [
    "Using the accelerate method, you will increase the speed of car1 by 30 km/h and car2 by 20 km/h"
   ]
  },
  {
   "cell_type": "code",
   "execution_count": 4,
   "metadata": {},
   "outputs": [],
   "source": [
    "# Accelerate the cars\n",
    "car1.accelerate(30)\n",
    "car2.accelerate(20)"
   ]
  },
  {
   "cell_type": "markdown",
   "metadata": {},
   "source": [
    "Lastly, the current speed of each car by utilizing the get_speed method will be displayed"
   ]
  },
  {
   "cell_type": "code",
   "execution_count": 5,
   "metadata": {},
   "outputs": [
    {
     "name": "stdout",
     "output_type": "stream",
     "text": [
      "Toyota Camry is currently at 30 km/h.\n",
      "Honda Civic is currently at 20 km/h.\n"
     ]
    }
   ],
   "source": [
    "# Print the current speeds of the cars\n",
    "print(f\"{car1.make} {car1.model} is currently at {car1.get_speed()} km/h.\")\n",
    "print(f\"{car2.make} {car2.model} is currently at {car2.get_speed()} km/h.\")"
   ]
  }
 ],
 "metadata": {
  "kernelspec": {
   "display_name": "Python 3",
   "language": "python",
   "name": "python3"
  },
  "language_info": {
   "codemirror_mode": {
    "name": "ipython",
    "version": 3
   },
   "file_extension": ".py",
   "mimetype": "text/x-python",
   "name": "python",
   "nbconvert_exporter": "python",
   "pygments_lexer": "ipython3",
   "version": "3.13.1"
  }
 },
 "nbformat": 4,
 "nbformat_minor": 2
}
