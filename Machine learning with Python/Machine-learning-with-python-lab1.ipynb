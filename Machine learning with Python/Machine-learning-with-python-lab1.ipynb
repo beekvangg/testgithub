{
 "cells": [
  {
   "cell_type": "markdown",
   "id": "d5a75724-277b-48be-9a96-a94f97acf04e",
   "metadata": {},
   "source": [
    "<p style=\"text-align:center\">\n",
    "    <a href=\"https://skills.network\" target=\"_blank\">\n",
    "    <img src=\"https://cf-courses-data.s3.us.cloud-object-storage.appdomain.cloud/assets/logos/SN_web_lightmode.png\" width=\"200\" alt=\"Skills Network Logo\">\n",
    "    </a>\n",
    "</p>\n"
   ]
  },
  {
   "cell_type": "markdown",
   "id": "2ce0fa2d-f944-4107-88c5-754072950cc1",
   "metadata": {},
   "source": [
    "#  Multi-class Classification\n"
   ]
  },
  {
   "cell_type": "markdown",
   "id": "7fc7256b-fa35-410e-89c1-7ec235bec5a2",
   "metadata": {},
   "source": [
    "Estimated time needed: **30** mins\n"
   ]
  },
  {
   "cell_type": "markdown",
   "id": "91d592c4-c9c3-450a-98fe-50c3b30f2ffa",
   "metadata": {},
   "source": [
    "In this lab, you will learn the different strategies of Multi-class classification and implement the same on a real-world dataset.\n"
   ]
  },
  {
   "cell_type": "markdown",
   "id": "0ebed4b9-350d-4713-a770-92cd3ac9119e",
   "metadata": {},
   "source": [
    "## **Objectives**\n"
   ]
  },
  {
   "cell_type": "markdown",
   "id": "f87311a1-aba6-4822-ae9d-0164414c27c0",
   "metadata": {},
   "source": [
    "After completing this lab you will be able to:\n"
   ]
  },
  {
   "cell_type": "markdown",
   "id": "b93c3a1a-0e03-40de-8d43-638d8279ea97",
   "metadata": {},
   "source": [
    "1. Understand the use of one-hot encoding for categorical variables.\n",
    "2. Implement logistic regression for multi-class classification using **One-vs-All (OvA)** and **One-vs-One (OvO)** strategies.\n",
    "3. Evaluate model performance using appropriate metrics.\n"
   ]
  },
  {
   "cell_type": "markdown",
   "id": "7680d7d0-2c2a-4749-87b5-2e9514e6f550",
   "metadata": {},
   "source": [
    "## Import Necessary Libraries\n"
   ]
  },
  {
   "cell_type": "markdown",
   "id": "edafbf46-014b-49e2-8fdf-ae59ea809c69",
   "metadata": {},
   "source": [
    "First, to ensure the availability of the required libraries, execute the cell below.\n"
   ]
  },
  {
   "cell_type": "code",
   "execution_count": 2,
   "id": "c0af2da4-89f1-464c-942d-10af8670f7fb",
   "metadata": {},
   "outputs": [],
   "source": [
    "# !pip install numpy==2.2.0\n",
    "# !pip install pandas==2.2.3\n",
    "# !pip install scikit-learn==1.6.0\n",
    "# !pip install matplotlib==3.9.3\n",
    "# !pip install seaborn==0.13.2"
   ]
  },
  {
   "cell_type": "markdown",
   "id": "39e21519-4cf5-41fd-8aec-0aefffac4e04",
   "metadata": {},
   "source": [
    "Now, import the necessary libraries for data processing, model training, and evaluation.\n"
   ]
  },
  {
   "cell_type": "code",
   "execution_count": 3,
   "id": "d9ec21d1-d620-4d56-a847-9c355b48a354",
   "metadata": {},
   "outputs": [],
   "source": [
    "import pandas as pd\n",
    "import numpy as np\n",
    "import matplotlib.pyplot as plt\n",
    "import seaborn as sns\n",
    "from sklearn.model_selection import train_test_split\n",
    "from sklearn.preprocessing import OneHotEncoder, StandardScaler\n",
    "from sklearn.linear_model import LogisticRegression\n",
    "from sklearn.multiclass import OneVsOneClassifier\n",
    "from sklearn.metrics import accuracy_score\n",
    "\n",
    "import warnings\n",
    "warnings.filterwarnings('ignore')"
   ]
  },
  {
   "cell_type": "markdown",
   "id": "4c53f0b8-058c-43a5-abf6-ab459939dbe9",
   "metadata": {},
   "source": [
    "## About the dataset\n",
    "The data set being used for this lab is the \"Obesity Risk Prediction\" data set publically available on <a href=\"https://archive.ics.uci.edu/dataset/544/estimation+of+obesity+levels+based+on+eating+habits+and+physical+condition\">UCI Library</a> under the <a href=\"https://creativecommons.org/licenses/by/4.0/legalcode\">CCA 4.0</a> license. The data set has 17 attributes in total along with 2,111 samples. \n",
    "\n",
    "The attributes of the dataset are descibed below.\n"
   ]
  },
  {
   "cell_type": "markdown",
   "id": "3597aada-c941-46e1-9df4-ad618e1b0b47",
   "metadata": {},
   "source": [
    "<style type=\"text/css\">\n",
    ".tg  {border-collapse:collapse;border-spacing:0;}\n",
    ".tg td{border-color:black;border-style:solid;border-width:1px;font-family:Arial, sans-serif;font-size:14px;\n",
    "  overflow:hidden;padding:10px 5px;word-break:normal;}\n",
    ".tg th{border-color:black;border-style:solid;border-width:1px;font-family:Arial, sans-serif;font-size:14px;\n",
    "  font-weight:normal;overflow:hidden;padding:10px 5px;word-break:normal;}\n",
    ".tg .tg-7zrl{text-align:left;vertical-align:bottom}\n",
    "</style>\n",
    "<table class=\"tg\"><thead>\n",
    "  <tr>\n",
    "    <th class=\"tg-7zrl\">Variable Name</th>\n",
    "    <th class=\"tg-7zrl\">Type</th>\n",
    "    <th class=\"tg-7zrl\">Description</th>\n",
    "  </tr></thead>\n",
    "<tbody>\n",
    "  <tr>\n",
    "    <td class=\"tg-7zrl\">Gender</td>\n",
    "    <td class=\"tg-7zrl\">Categorical</td>\n",
    "    <td class=\"tg-7zrl\"></td>\n",
    "  </tr>\n",
    "  <tr>\n",
    "    <td class=\"tg-7zrl\">Age</td>\n",
    "    <td class=\"tg-7zrl\">Continuous</td>\n",
    "    <td class=\"tg-7zrl\"></td>\n",
    "  </tr>\n",
    "  <tr>\n",
    "    <td class=\"tg-7zrl\">Height</td>\n",
    "    <td class=\"tg-7zrl\">Continuous</td>\n",
    "    <td class=\"tg-7zrl\"></td>\n",
    "  </tr>\n",
    "  <tr>\n",
    "    <td class=\"tg-7zrl\">Weight</td>\n",
    "    <td class=\"tg-7zrl\">Continuous</td>\n",
    "    <td class=\"tg-7zrl\"></td>\n",
    "  </tr>\n",
    "  <tr>\n",
    "    <td class=\"tg-7zrl\">family_history_with_overweight</td>\n",
    "    <td class=\"tg-7zrl\">Binary</td>\n",
    "    <td class=\"tg-7zrl\">Has a family member suffered or suffers from overweight?</td>\n",
    "  </tr>\n",
    "  <tr>\n",
    "    <td class=\"tg-7zrl\">FAVC</td>\n",
    "    <td class=\"tg-7zrl\">Binary</td>\n",
    "    <td class=\"tg-7zrl\">Do you eat high caloric food frequently?</td>\n",
    "  </tr>\n",
    "  <tr>\n",
    "    <td class=\"tg-7zrl\">FCVC</td>\n",
    "    <td class=\"tg-7zrl\">Integer</td>\n",
    "    <td class=\"tg-7zrl\">Do you usually eat vegetables in your meals?</td>\n",
    "  </tr>\n",
    "  <tr>\n",
    "    <td class=\"tg-7zrl\">NCP</td>\n",
    "    <td class=\"tg-7zrl\">Continuous</td>\n",
    "    <td class=\"tg-7zrl\">How many main meals do you have daily?</td>\n",
    "  </tr>\n",
    "  <tr>\n",
    "    <td class=\"tg-7zrl\">CAEC</td>\n",
    "    <td class=\"tg-7zrl\">Categorical</td>\n",
    "    <td class=\"tg-7zrl\">Do you eat any food between meals?</td>\n",
    "  </tr>\n",
    "  <tr>\n",
    "    <td class=\"tg-7zrl\">SMOKE</td>\n",
    "    <td class=\"tg-7zrl\">Binary</td>\n",
    "    <td class=\"tg-7zrl\">Do you smoke?</td>\n",
    "  </tr>\n",
    "  <tr>\n",
    "    <td class=\"tg-7zrl\">CH2O</td>\n",
    "    <td class=\"tg-7zrl\">Continuous</td>\n",
    "    <td class=\"tg-7zrl\">How much water do you drink daily?</td>\n",
    "  </tr>\n",
    "  <tr>\n",
    "    <td class=\"tg-7zrl\">SCC</td>\n",
    "    <td class=\"tg-7zrl\">Binary</td>\n",
    "    <td class=\"tg-7zrl\">Do you monitor the calories you eat daily?</td>\n",
    "  </tr>\n",
    "  <tr>\n",
    "    <td class=\"tg-7zrl\">FAF</td>\n",
    "    <td class=\"tg-7zrl\">Continuous</td>\n",
    "    <td class=\"tg-7zrl\">How often do you have physical activity?</td>\n",
    "  </tr>\n",
    "  <tr>\n",
    "    <td class=\"tg-7zrl\">TUE</td>\n",
    "    <td class=\"tg-7zrl\">Integer</td>\n",
    "    <td class=\"tg-7zrl\">How much time do you use technological devices such as cell phone, videogames, television, computer and others?</td>\n",
    "  </tr>\n",
    "  <tr>\n",
    "    <td class=\"tg-7zrl\">CALC</td>\n",
    "    <td class=\"tg-7zrl\">Categorical</td>\n",
    "    <td class=\"tg-7zrl\">How often do you drink alcohol?</td>\n",
    "  </tr>\n",
    "  <tr>\n",
    "    <td class=\"tg-7zrl\">MTRANS</td>\n",
    "    <td class=\"tg-7zrl\">Categorical</td>\n",
    "    <td class=\"tg-7zrl\">Which transportation do you usually use?</td>\n",
    "  </tr>\n",
    "  <tr>\n",
    "    <td class=\"tg-7zrl\">NObeyesdad</td>\n",
    "    <td class=\"tg-7zrl\">Categorical</td>\n",
    "    <td class=\"tg-7zrl\">Obesity level</td>\n",
    "  </tr>\n",
    "</tbody></table>\n"
   ]
  },
  {
   "cell_type": "markdown",
   "id": "36ed19a5-0207-4ec1-b413-7f2e9ffbb7df",
   "metadata": {},
   "source": [
    "### Load the dataset\n",
    "\n",
    "Load the data set by executing the code cell below.\n"
   ]
  },
  {
   "cell_type": "code",
   "execution_count": 4,
   "id": "a10a877d-f684-4e96-9f7f-891e232dfc4a",
   "metadata": {},
   "outputs": [
    {
     "data": {
      "text/html": [
       "<div>\n",
       "<style scoped>\n",
       "    .dataframe tbody tr th:only-of-type {\n",
       "        vertical-align: middle;\n",
       "    }\n",
       "\n",
       "    .dataframe tbody tr th {\n",
       "        vertical-align: top;\n",
       "    }\n",
       "\n",
       "    .dataframe thead th {\n",
       "        text-align: right;\n",
       "    }\n",
       "</style>\n",
       "<table border=\"1\" class=\"dataframe\">\n",
       "  <thead>\n",
       "    <tr style=\"text-align: right;\">\n",
       "      <th></th>\n",
       "      <th>Gender</th>\n",
       "      <th>Age</th>\n",
       "      <th>Height</th>\n",
       "      <th>Weight</th>\n",
       "      <th>family_history_with_overweight</th>\n",
       "      <th>FAVC</th>\n",
       "      <th>FCVC</th>\n",
       "      <th>NCP</th>\n",
       "      <th>CAEC</th>\n",
       "      <th>SMOKE</th>\n",
       "      <th>CH2O</th>\n",
       "      <th>SCC</th>\n",
       "      <th>FAF</th>\n",
       "      <th>TUE</th>\n",
       "      <th>CALC</th>\n",
       "      <th>MTRANS</th>\n",
       "      <th>NObeyesdad</th>\n",
       "    </tr>\n",
       "  </thead>\n",
       "  <tbody>\n",
       "    <tr>\n",
       "      <th>0</th>\n",
       "      <td>Female</td>\n",
       "      <td>21.0</td>\n",
       "      <td>1.62</td>\n",
       "      <td>64.0</td>\n",
       "      <td>yes</td>\n",
       "      <td>no</td>\n",
       "      <td>2.0</td>\n",
       "      <td>3.0</td>\n",
       "      <td>Sometimes</td>\n",
       "      <td>no</td>\n",
       "      <td>2.0</td>\n",
       "      <td>no</td>\n",
       "      <td>0.0</td>\n",
       "      <td>1.0</td>\n",
       "      <td>no</td>\n",
       "      <td>Public_Transportation</td>\n",
       "      <td>Normal_Weight</td>\n",
       "    </tr>\n",
       "    <tr>\n",
       "      <th>1</th>\n",
       "      <td>Female</td>\n",
       "      <td>21.0</td>\n",
       "      <td>1.52</td>\n",
       "      <td>56.0</td>\n",
       "      <td>yes</td>\n",
       "      <td>no</td>\n",
       "      <td>3.0</td>\n",
       "      <td>3.0</td>\n",
       "      <td>Sometimes</td>\n",
       "      <td>yes</td>\n",
       "      <td>3.0</td>\n",
       "      <td>yes</td>\n",
       "      <td>3.0</td>\n",
       "      <td>0.0</td>\n",
       "      <td>Sometimes</td>\n",
       "      <td>Public_Transportation</td>\n",
       "      <td>Normal_Weight</td>\n",
       "    </tr>\n",
       "    <tr>\n",
       "      <th>2</th>\n",
       "      <td>Male</td>\n",
       "      <td>23.0</td>\n",
       "      <td>1.80</td>\n",
       "      <td>77.0</td>\n",
       "      <td>yes</td>\n",
       "      <td>no</td>\n",
       "      <td>2.0</td>\n",
       "      <td>3.0</td>\n",
       "      <td>Sometimes</td>\n",
       "      <td>no</td>\n",
       "      <td>2.0</td>\n",
       "      <td>no</td>\n",
       "      <td>2.0</td>\n",
       "      <td>1.0</td>\n",
       "      <td>Frequently</td>\n",
       "      <td>Public_Transportation</td>\n",
       "      <td>Normal_Weight</td>\n",
       "    </tr>\n",
       "    <tr>\n",
       "      <th>3</th>\n",
       "      <td>Male</td>\n",
       "      <td>27.0</td>\n",
       "      <td>1.80</td>\n",
       "      <td>87.0</td>\n",
       "      <td>no</td>\n",
       "      <td>no</td>\n",
       "      <td>3.0</td>\n",
       "      <td>3.0</td>\n",
       "      <td>Sometimes</td>\n",
       "      <td>no</td>\n",
       "      <td>2.0</td>\n",
       "      <td>no</td>\n",
       "      <td>2.0</td>\n",
       "      <td>0.0</td>\n",
       "      <td>Frequently</td>\n",
       "      <td>Walking</td>\n",
       "      <td>Overweight_Level_I</td>\n",
       "    </tr>\n",
       "    <tr>\n",
       "      <th>4</th>\n",
       "      <td>Male</td>\n",
       "      <td>22.0</td>\n",
       "      <td>1.78</td>\n",
       "      <td>89.8</td>\n",
       "      <td>no</td>\n",
       "      <td>no</td>\n",
       "      <td>2.0</td>\n",
       "      <td>1.0</td>\n",
       "      <td>Sometimes</td>\n",
       "      <td>no</td>\n",
       "      <td>2.0</td>\n",
       "      <td>no</td>\n",
       "      <td>0.0</td>\n",
       "      <td>0.0</td>\n",
       "      <td>Sometimes</td>\n",
       "      <td>Public_Transportation</td>\n",
       "      <td>Overweight_Level_II</td>\n",
       "    </tr>\n",
       "  </tbody>\n",
       "</table>\n",
       "</div>"
      ],
      "text/plain": [
       "   Gender   Age  Height  Weight family_history_with_overweight FAVC  FCVC  \\\n",
       "0  Female  21.0    1.62    64.0                            yes   no   2.0   \n",
       "1  Female  21.0    1.52    56.0                            yes   no   3.0   \n",
       "2    Male  23.0    1.80    77.0                            yes   no   2.0   \n",
       "3    Male  27.0    1.80    87.0                             no   no   3.0   \n",
       "4    Male  22.0    1.78    89.8                             no   no   2.0   \n",
       "\n",
       "   NCP       CAEC SMOKE  CH2O  SCC  FAF  TUE        CALC  \\\n",
       "0  3.0  Sometimes    no   2.0   no  0.0  1.0          no   \n",
       "1  3.0  Sometimes   yes   3.0  yes  3.0  0.0   Sometimes   \n",
       "2  3.0  Sometimes    no   2.0   no  2.0  1.0  Frequently   \n",
       "3  3.0  Sometimes    no   2.0   no  2.0  0.0  Frequently   \n",
       "4  1.0  Sometimes    no   2.0   no  0.0  0.0   Sometimes   \n",
       "\n",
       "                  MTRANS           NObeyesdad  \n",
       "0  Public_Transportation        Normal_Weight  \n",
       "1  Public_Transportation        Normal_Weight  \n",
       "2  Public_Transportation        Normal_Weight  \n",
       "3                Walking   Overweight_Level_I  \n",
       "4  Public_Transportation  Overweight_Level_II  "
      ]
     },
     "execution_count": 4,
     "metadata": {},
     "output_type": "execute_result"
    }
   ],
   "source": [
    "file_path = \"https://cf-courses-data.s3.us.cloud-object-storage.appdomain.cloud/GkDzb7bWrtvGXdPOfk6CIg/Obesity-level-prediction-dataset.csv\"\n",
    "data = pd.read_csv(file_path)\n",
    "data.head()"
   ]
  },
  {
   "cell_type": "markdown",
   "id": "9c6b3ab7-38e7-4e22-be57-cd254074ef40",
   "metadata": {},
   "source": [
    "## Exploratory Data Analysis\n"
   ]
  },
  {
   "cell_type": "markdown",
   "id": "e5172a94-932d-4715-8d67-db1bab348b4c",
   "metadata": {},
   "source": [
    "Visualize the distribution of the target variable to understand the class balance.\n"
   ]
  },
  {
   "cell_type": "code",
   "execution_count": 5,
   "id": "502feb6d-53d7-434b-9648-865fbc68a958",
   "metadata": {},
   "outputs": [
    {
     "data": {
      "image/png": "[encoded data removed]",
      "text/plain": [
       "<Figure size 640x480 with 1 Axes>"
      ]
     },
     "metadata": {},
     "output_type": "display_data"
    }
   ],
   "source": [
    "# Distribution of target variable\n",
    "sns.countplot(y='NObeyesdad', data=data)\n",
    "plt.title('Distribution of Obesity Levels')\n",
    "plt.show()"
   ]
  },
  {
   "cell_type": "markdown",
   "id": "4457e824-12e8-48ff-bb29-267bfbe8e02b",
   "metadata": {},
   "source": [
    "This shows that the dataset is fairly balanced and does not require any special attention in terms of biased training.\n"
   ]
  },
  {
   "cell_type": "markdown",
   "id": "80292692-55cf-42a0-816c-7df577a193ec",
   "metadata": {},
   "source": [
    "### Exercise 1\n",
    "Check for null values, and display a summary of the dataset (use `.info()` and `.describe()` methods).\n"
   ]
  },
  {
   "cell_type": "code",
   "execution_count": 6,
   "id": "7b0e7ce7-cd5b-4c8e-a4b4-88e1dcd7ad81",
   "metadata": {},
   "outputs": [
    {
     "name": "stdout",
     "output_type": "stream",
     "text": [
      "Gender                            0\n",
      "Age                               0\n",
      "Height                            0\n",
      "Weight                            0\n",
      "family_history_with_overweight    0\n",
      "FAVC                              0\n",
      "FCVC                              0\n",
      "NCP                               0\n",
      "CAEC                              0\n",
      "SMOKE                             0\n",
      "CH2O                              0\n",
      "SCC                               0\n",
      "FAF                               0\n",
      "TUE                               0\n",
      "CALC                              0\n",
      "MTRANS                            0\n",
      "NObeyesdad                        0\n",
      "dtype: int64\n",
      "<class 'pandas.core.frame.DataFrame'>\n",
      "RangeIndex: 2111 entries, 0 to 2110\n",
      "Data columns (total 17 columns):\n",
      " #   Column                          Non-Null Count  Dtype  \n",
      "---  ------                          --------------  -----  \n",
      " 0   Gender                          2111 non-null   object \n",
      " 1   Age                             2111 non-null   float64\n",
      " 2   Height                          2111 non-null   float64\n",
      " 3   Weight                          2111 non-null   float64\n",
      " 4   family_history_with_overweight  2111 non-null   object \n",
      " 5   FAVC                            2111 non-null   object \n",
      " 6   FCVC                            2111 non-null   float64\n",
      " 7   NCP                             2111 non-null   float64\n",
      " 8   CAEC                            2111 non-null   object \n",
      " 9   SMOKE                           2111 non-null   object \n",
      " 10  CH2O                            2111 non-null   float64\n",
      " 11  SCC                             2111 non-null   object \n",
      " 12  FAF                             2111 non-null   float64\n",
      " 13  TUE                             2111 non-null   float64\n",
      " 14  CALC                            2111 non-null   object \n",
      " 15  MTRANS                          2111 non-null   object \n",
      " 16  NObeyesdad                      2111 non-null   object \n",
      "dtypes: float64(8), object(9)\n",
      "memory usage: 280.5+ KB\n",
      "None\n",
      "               Age       Height       Weight         FCVC          NCP  \\\n",
      "count  2111.000000  2111.000000  2111.000000  2111.000000  2111.000000   \n",
      "mean     24.312600     1.701677    86.586058     2.419043     2.685628   \n",
      "std       6.345968     0.093305    26.191172     0.533927     0.778039   \n",
      "min      14.000000     1.450000    39.000000     1.000000     1.000000   \n",
      "25%      19.947192     1.630000    65.473343     2.000000     2.658738   \n",
      "50%      22.777890     1.700499    83.000000     2.385502     3.000000   \n",
      "75%      26.000000     1.768464   107.430682     3.000000     3.000000   \n",
      "max      61.000000     1.980000   173.000000     3.000000     4.000000   \n",
      "\n",
      "              CH2O          FAF          TUE  \n",
      "count  2111.000000  2111.000000  2111.000000  \n",
      "mean      2.008011     1.010298     0.657866  \n",
      "std       0.612953     0.850592     0.608927  \n",
      "min       1.000000     0.000000     0.000000  \n",
      "25%       1.584812     0.124505     0.000000  \n",
      "50%       2.000000     1.000000     0.625350  \n",
      "75%       2.477420     1.666678     1.000000  \n",
      "max       3.000000     3.000000     2.000000  \n"
     ]
    }
   ],
   "source": [
    "# your code here\n",
    "print(data.isnull().sum())\n",
    "print(data.info())\n",
    "print(data.describe())"
   ]
  },
  {
   "cell_type": "markdown",
   "id": "bfc10827-c663-4b26-9ab2-c8aba66d9d31",
   "metadata": {},
   "source": [
    "<details><summary>Click here for the solution</summary>\n",
    "\n",
    "```python\n",
    "# Checking for null values\n",
    "print(data.isnull().sum())\n",
    "\n",
    "# Dataset summary\n",
    "print(data.info())\n",
    "print(data.describe())\n",
    "```\n",
    "</details>\n"
   ]
  },
  {
   "cell_type": "markdown",
   "id": "67209a98-70e4-43b5-9ccf-984d112f6e19",
   "metadata": {},
   "source": [
    "Expected Output:\n",
    "\n",
    "* Counts of null values for each column (likely zero for this dataset).\n",
    "* Dataset info including column names, data types, and memory usage.\n",
    "* Descriptive statistics for numerical columns.\n"
   ]
  },
  {
   "cell_type": "markdown",
   "id": "577714a8-4695-43d0-bc72-373ae6cf30c5",
   "metadata": {},
   "source": [
    "## Preprocessing the data\n"
   ]
  },
  {
   "cell_type": "markdown",
   "id": "d10e4ccb-29cf-4b57-b55f-a8799febb6ec",
   "metadata": {},
   "source": [
    "### Feature scaling\n",
    "Scale the numerical features to standardize their ranges for better model performance.\n"
   ]
  },
  {
   "cell_type": "code",
   "execution_count": 7,
   "id": "206099b3-2536-42b3-9a05-e3580d6d6442",
   "metadata": {},
   "outputs": [],
   "source": [
    "# Standardizing continuous numerical features\n",
    "continuous_columns = data.select_dtypes(include=['float64']).columns.tolist()\n",
    "\n",
    "scaler = StandardScaler()\n",
    "scaled_features = scaler.fit_transform(data[continuous_columns])\n",
    "\n",
    "# Converting to a DataFrame\n",
    "scaled_df = pd.DataFrame(scaled_features, columns=scaler.get_feature_names_out(continuous_columns))\n",
    "\n",
    "# Combining with the original dataset\n",
    "scaled_data = pd.concat([data.drop(columns=continuous_columns), scaled_df], axis=1)"
   ]
  },
  {
   "cell_type": "markdown",
   "id": "59c9a30e-ba2a-4082-a729-de0b941681af",
   "metadata": {},
   "source": [
    "Standardization of data is important to better define the decision boundaries between classes by making sure that the feature variations are in similar scales. The data is now ready to be used for training and testing.\n"
   ]
  },
  {
   "cell_type": "markdown",
   "id": "f4bda272-9e8c-43be-9e18-3914b6b7ce72",
   "metadata": {},
   "source": [
    "### One-hot encoding\n",
    "Convert categorical variables into numerical format using one-hot encoding.\n"
   ]
  },
  {
   "cell_type": "code",
   "execution_count": 8,
   "id": "86c8d6d7-a769-4e6a-b6cc-ea86e89c928c",
   "metadata": {},
   "outputs": [],
   "source": [
    "# Identifying categorical columns\n",
    "categorical_columns = scaled_data.select_dtypes(include=['object']).columns.tolist()\n",
    "categorical_columns.remove('NObeyesdad')  # Exclude target column\n",
    "\n",
    "# Applying one-hot encoding\n",
    "encoder = OneHotEncoder(sparse_output=False, drop='first')\n",
    "encoded_features = encoder.fit_transform(scaled_data[categorical_columns])\n",
    "\n",
    "# Converting to a DataFrame\n",
    "encoded_df = pd.DataFrame(encoded_features, columns=encoder.get_feature_names_out(categorical_columns))\n",
    "\n",
    "# Combining with the original dataset\n",
    "prepped_data = pd.concat([scaled_data.drop(columns=categorical_columns), encoded_df], axis=1)"
   ]
  },
  {
   "cell_type": "markdown",
   "id": "3e799f6e-a047-49e9-9a3f-f6f2ec631efd",
   "metadata": {},
   "source": [
    "You will observe that all the categorical variables have now been modified to one-hot encoded features. This increases the overall number of fields to 24. \n"
   ]
  },
  {
   "cell_type": "markdown",
   "id": "c645bbf7-c69c-45e2-99e6-bac6495a2b5b",
   "metadata": {},
   "source": [
    "### Encode the target variable\n"
   ]
  },
  {
   "cell_type": "code",
   "execution_count": 9,
   "id": "ec2dbed4-01fd-47c4-b5c3-4d854920e500",
   "metadata": {},
   "outputs": [
    {
     "data": {
      "text/html": [
       "<div>\n",
       "<style scoped>\n",
       "    .dataframe tbody tr th:only-of-type {\n",
       "        vertical-align: middle;\n",
       "    }\n",
       "\n",
       "    .dataframe tbody tr th {\n",
       "        vertical-align: top;\n",
       "    }\n",
       "\n",
       "    .dataframe thead th {\n",
       "        text-align: right;\n",
       "    }\n",
       "</style>\n",
       "<table border=\"1\" class=\"dataframe\">\n",
       "  <thead>\n",
       "    <tr style=\"text-align: right;\">\n",
       "      <th></th>\n",
       "      <th>NObeyesdad</th>\n",
       "      <th>Age</th>\n",
       "      <th>Height</th>\n",
       "      <th>Weight</th>\n",
       "      <th>FCVC</th>\n",
       "      <th>NCP</th>\n",
       "      <th>CH2O</th>\n",
       "      <th>FAF</th>\n",
       "      <th>TUE</th>\n",
       "      <th>Gender_Male</th>\n",
       "      <th>...</th>\n",
       "      <th>CAEC_no</th>\n",
       "      <th>SMOKE_yes</th>\n",
       "      <th>SCC_yes</th>\n",
       "      <th>CALC_Frequently</th>\n",
       "      <th>CALC_Sometimes</th>\n",
       "      <th>CALC_no</th>\n",
       "      <th>MTRANS_Bike</th>\n",
       "      <th>MTRANS_Motorbike</th>\n",
       "      <th>MTRANS_Public_Transportation</th>\n",
       "      <th>MTRANS_Walking</th>\n",
       "    </tr>\n",
       "  </thead>\n",
       "  <tbody>\n",
       "    <tr>\n",
       "      <th>0</th>\n",
       "      <td>1</td>\n",
       "      <td>-0.522124</td>\n",
       "      <td>-0.875589</td>\n",
       "      <td>-0.862558</td>\n",
       "      <td>-0.785019</td>\n",
       "      <td>0.404153</td>\n",
       "      <td>-0.013073</td>\n",
       "      <td>-1.188039</td>\n",
       "      <td>0.561997</td>\n",
       "      <td>0.0</td>\n",
       "      <td>...</td>\n",
       "      <td>0.0</td>\n",
       "      <td>0.0</td>\n",
       "      <td>0.0</td>\n",
       "      <td>0.0</td>\n",
       "      <td>0.0</td>\n",
       "      <td>1.0</td>\n",
       "      <td>0.0</td>\n",
       "      <td>0.0</td>\n",
       "      <td>1.0</td>\n",
       "      <td>0.0</td>\n",
       "    </tr>\n",
       "    <tr>\n",
       "      <th>1</th>\n",
       "      <td>1</td>\n",
       "      <td>-0.522124</td>\n",
       "      <td>-1.947599</td>\n",
       "      <td>-1.168077</td>\n",
       "      <td>1.088342</td>\n",
       "      <td>0.404153</td>\n",
       "      <td>1.618759</td>\n",
       "      <td>2.339750</td>\n",
       "      <td>-1.080625</td>\n",
       "      <td>0.0</td>\n",
       "      <td>...</td>\n",
       "      <td>0.0</td>\n",
       "      <td>1.0</td>\n",
       "      <td>1.0</td>\n",
       "      <td>0.0</td>\n",
       "      <td>1.0</td>\n",
       "      <td>0.0</td>\n",
       "      <td>0.0</td>\n",
       "      <td>0.0</td>\n",
       "      <td>1.0</td>\n",
       "      <td>0.0</td>\n",
       "    </tr>\n",
       "    <tr>\n",
       "      <th>2</th>\n",
       "      <td>1</td>\n",
       "      <td>-0.206889</td>\n",
       "      <td>1.054029</td>\n",
       "      <td>-0.366090</td>\n",
       "      <td>-0.785019</td>\n",
       "      <td>0.404153</td>\n",
       "      <td>-0.013073</td>\n",
       "      <td>1.163820</td>\n",
       "      <td>0.561997</td>\n",
       "      <td>1.0</td>\n",
       "      <td>...</td>\n",
       "      <td>0.0</td>\n",
       "      <td>0.0</td>\n",
       "      <td>0.0</td>\n",
       "      <td>1.0</td>\n",
       "      <td>0.0</td>\n",
       "      <td>0.0</td>\n",
       "      <td>0.0</td>\n",
       "      <td>0.0</td>\n",
       "      <td>1.0</td>\n",
       "      <td>0.0</td>\n",
       "    </tr>\n",
       "    <tr>\n",
       "      <th>3</th>\n",
       "      <td>5</td>\n",
       "      <td>0.423582</td>\n",
       "      <td>1.054029</td>\n",
       "      <td>0.015808</td>\n",
       "      <td>1.088342</td>\n",
       "      <td>0.404153</td>\n",
       "      <td>-0.013073</td>\n",
       "      <td>1.163820</td>\n",
       "      <td>-1.080625</td>\n",
       "      <td>1.0</td>\n",
       "      <td>...</td>\n",
       "      <td>0.0</td>\n",
       "      <td>0.0</td>\n",
       "      <td>0.0</td>\n",
       "      <td>1.0</td>\n",
       "      <td>0.0</td>\n",
       "      <td>0.0</td>\n",
       "      <td>0.0</td>\n",
       "      <td>0.0</td>\n",
       "      <td>0.0</td>\n",
       "      <td>1.0</td>\n",
       "    </tr>\n",
       "    <tr>\n",
       "      <th>4</th>\n",
       "      <td>6</td>\n",
       "      <td>-0.364507</td>\n",
       "      <td>0.839627</td>\n",
       "      <td>0.122740</td>\n",
       "      <td>-0.785019</td>\n",
       "      <td>-2.167023</td>\n",
       "      <td>-0.013073</td>\n",
       "      <td>-1.188039</td>\n",
       "      <td>-1.080625</td>\n",
       "      <td>1.0</td>\n",
       "      <td>...</td>\n",
       "      <td>0.0</td>\n",
       "      <td>0.0</td>\n",
       "      <td>0.0</td>\n",
       "      <td>0.0</td>\n",
       "      <td>1.0</td>\n",
       "      <td>0.0</td>\n",
       "      <td>0.0</td>\n",
       "      <td>0.0</td>\n",
       "      <td>1.0</td>\n",
       "      <td>0.0</td>\n",
       "    </tr>\n",
       "  </tbody>\n",
       "</table>\n",
       "<p>5 rows × 24 columns</p>\n",
       "</div>"
      ],
      "text/plain": [
       "   NObeyesdad       Age    Height    Weight      FCVC       NCP      CH2O  \\\n",
       "0           1 -0.522124 -0.875589 -0.862558 -0.785019  0.404153 -0.013073   \n",
       "1           1 -0.522124 -1.947599 -1.168077  1.088342  0.404153  1.618759   \n",
       "2           1 -0.206889  1.054029 -0.366090 -0.785019  0.404153 -0.013073   \n",
       "3           5  0.423582  1.054029  0.015808  1.088342  0.404153 -0.013073   \n",
       "4           6 -0.364507  0.839627  0.122740 -0.785019 -2.167023 -0.013073   \n",
       "\n",
       "        FAF       TUE  Gender_Male  ...  CAEC_no  SMOKE_yes  SCC_yes  \\\n",
       "0 -1.188039  0.561997          0.0  ...      0.0        0.0      0.0   \n",
       "1  2.339750 -1.080625          0.0  ...      0.0        1.0      1.0   \n",
       "2  1.163820  0.561997          1.0  ...      0.0        0.0      0.0   \n",
       "3  1.163820 -1.080625          1.0  ...      0.0        0.0      0.0   \n",
       "4 -1.188039 -1.080625          1.0  ...      0.0        0.0      0.0   \n",
       "\n",
       "   CALC_Frequently  CALC_Sometimes  CALC_no  MTRANS_Bike  MTRANS_Motorbike  \\\n",
       "0              0.0             0.0      1.0          0.0               0.0   \n",
       "1              0.0             1.0      0.0          0.0               0.0   \n",
       "2              1.0             0.0      0.0          0.0               0.0   \n",
       "3              1.0             0.0      0.0          0.0               0.0   \n",
       "4              0.0             1.0      0.0          0.0               0.0   \n",
       "\n",
       "   MTRANS_Public_Transportation  MTRANS_Walking  \n",
       "0                           1.0             0.0  \n",
       "1                           1.0             0.0  \n",
       "2                           1.0             0.0  \n",
       "3                           0.0             1.0  \n",
       "4                           1.0             0.0  \n",
       "\n",
       "[5 rows x 24 columns]"
      ]
     },
     "execution_count": 9,
     "metadata": {},
     "output_type": "execute_result"
    }
   ],
   "source": [
    "# Encoding the target variable\n",
    "prepped_data['NObeyesdad'] = prepped_data['NObeyesdad'].astype('category').cat.codes\n",
    "prepped_data.head()"
   ]
  },
  {
   "cell_type": "markdown",
   "id": "20f1e960-68bc-4afc-91a0-456765749378",
   "metadata": {},
   "source": [
    "### Separate the input and target data\n"
   ]
  },
  {
   "cell_type": "code",
   "execution_count": 10,
   "id": "7912559c-20c9-44c5-afbd-180ca5719255",
   "metadata": {},
   "outputs": [],
   "source": [
    "# Preparing final dataset\n",
    "X = prepped_data.drop('NObeyesdad', axis=1)\n",
    "y = prepped_data['NObeyesdad']"
   ]
  },
  {
   "cell_type": "markdown",
   "id": "76f93ee8-7c7c-4b74-b330-be49836529b6",
   "metadata": {},
   "source": [
    "## Model training and evaluation \n"
   ]
  },
  {
   "cell_type": "markdown",
   "id": "40ddd4ba-071d-4822-9795-5eae2b78b0d4",
   "metadata": {},
   "source": [
    "### Splitting the data set\n",
    "Split the data into training and testing subsets.\n"
   ]
  },
  {
   "cell_type": "code",
   "execution_count": 11,
   "id": "a817d913-8537-465f-a657-a5002acbf64a",
   "metadata": {},
   "outputs": [],
   "source": [
    "# Splitting data\n",
    "X_train, X_test, y_train, y_test = train_test_split(X, y, test_size=0.2, random_state=42, stratify=y)"
   ]
  },
  {
   "cell_type": "markdown",
   "id": "773872bd-1478-4232-96ea-0e21d684e6b0",
   "metadata": {},
   "source": [
    "### Logistic Regression with One-vs-All\n",
    "In the One-vs-All approach:\n",
    "\n",
    "* The algorithm trains a single binary classifier for each class.\n",
    "* Each classifier learns to distinguish a single class from all the others combined.\n",
    "* If there are k classes, k classifiers are trained.\n",
    "* During prediction, the algorithm evaluates all classifiers on each input, and selects the class with the highest confidence score as the predicted class.\n",
    "\n",
    "#### Advantages:\n",
    "* Simpler and more efficient in terms of the number of classifiers (k)\n",
    "* Easier to implement for algorithms that naturally provide confidence scores (e.g., logistic regression, SVM).\n",
    "\n",
    "#### Disadvantages:\n",
    "* Classifiers may struggle with class imbalance since each binary classifier must distinguish between one class and the rest.\n",
    "* Requires the classifier to perform well even with highly imbalanced datasets, as the \"all\" group typically contains more samples than the \"one\" class.\n"
   ]
  },
  {
   "cell_type": "markdown",
   "id": "cc69cc96-506f-4a1b-a5da-ae1fadae35e4",
   "metadata": {},
   "source": [
    "Train a logistic regression model using the One-vs-All strategy and evaluate its performance.\n"
   ]
  },
  {
   "cell_type": "code",
   "execution_count": 12,
   "id": "e038448f-0155-425f-997e-4b6b8212d244",
   "metadata": {},
   "outputs": [
    {
     "data": {
      "text/html": [
       "<style>#sk-container-id-1 {color: black;}#sk-container-id-1 pre{padding: 0;}#sk-container-id-1 div.sk-toggleable {background-color: white;}#sk-container-id-1 label.sk-toggleable__label {cursor: pointer;display: block;width: 100%;margin-bottom: 0;padding: 0.3em;box-sizing: border-box;text-align: center;}#sk-container-id-1 label.sk-toggleable__label-arrow:before {content: \"▸\";float: left;margin-right: 0.25em;color: #696969;}#sk-container-id-1 label.sk-toggleable__label-arrow:hover:before {color: black;}#sk-container-id-1 div.sk-estimator:hover label.sk-toggleable__label-arrow:before {color: black;}#sk-container-id-1 div.sk-toggleable__content {max-height: 0;max-width: 0;overflow: hidden;text-align: left;background-color: #f0f8ff;}#sk-container-id-1 div.sk-toggleable__content pre {margin: 0.2em;color: black;border-radius: 0.25em;background-color: #f0f8ff;}#sk-container-id-1 input.sk-toggleable__control:checked~div.sk-toggleable__content {max-height: 200px;max-width: 100%;overflow: auto;}#sk-container-id-1 input.sk-toggleable__control:checked~label.sk-toggleable__label-arrow:before {content: \"▾\";}#sk-container-id-1 div.sk-estimator input.sk-toggleable__control:checked~label.sk-toggleable__label {background-color: #d4ebff;}#sk-container-id-1 div.sk-label input.sk-toggleable__control:checked~label.sk-toggleable__label {background-color: #d4ebff;}#sk-container-id-1 input.sk-hidden--visually {border: 0;clip: rect(1px 1px 1px 1px);clip: rect(1px, 1px, 1px, 1px);height: 1px;margin: -1px;overflow: hidden;padding: 0;position: absolute;width: 1px;}#sk-container-id-1 div.sk-estimator {font-family: monospace;background-color: #f0f8ff;border: 1px dotted black;border-radius: 0.25em;box-sizing: border-box;margin-bottom: 0.5em;}#sk-container-id-1 div.sk-estimator:hover {background-color: #d4ebff;}#sk-container-id-1 div.sk-parallel-item::after {content: \"\";width: 100%;border-bottom: 1px solid gray;flex-grow: 1;}#sk-container-id-1 div.sk-label:hover label.sk-toggleable__label {background-color: #d4ebff;}#sk-container-id-1 div.sk-serial::before {content: \"\";position: absolute;border-left: 1px solid gray;box-sizing: border-box;top: 0;bottom: 0;left: 50%;z-index: 0;}#sk-container-id-1 div.sk-serial {display: flex;flex-direction: column;align-items: center;background-color: white;padding-right: 0.2em;padding-left: 0.2em;position: relative;}#sk-container-id-1 div.sk-item {position: relative;z-index: 1;}#sk-container-id-1 div.sk-parallel {display: flex;align-items: stretch;justify-content: center;background-color: white;position: relative;}#sk-container-id-1 div.sk-item::before, #sk-container-id-1 div.sk-parallel-item::before {content: \"\";position: absolute;border-left: 1px solid gray;box-sizing: border-box;top: 0;bottom: 0;left: 50%;z-index: -1;}#sk-container-id-1 div.sk-parallel-item {display: flex;flex-direction: column;z-index: 1;position: relative;background-color: white;}#sk-container-id-1 div.sk-parallel-item:first-child::after {align-self: flex-end;width: 50%;}#sk-container-id-1 div.sk-parallel-item:last-child::after {align-self: flex-start;width: 50%;}#sk-container-id-1 div.sk-parallel-item:only-child::after {width: 0;}#sk-container-id-1 div.sk-dashed-wrapped {border: 1px dashed gray;margin: 0 0.4em 0.5em 0.4em;box-sizing: border-box;padding-bottom: 0.4em;background-color: white;}#sk-container-id-1 div.sk-label label {font-family: monospace;font-weight: bold;display: inline-block;line-height: 1.2em;}#sk-container-id-1 div.sk-label-container {text-align: center;}#sk-container-id-1 div.sk-container {/* jupyter's `normalize.less` sets `[hidden] { display: none; }` but bootstrap.min.css set `[hidden] { display: none !important; }` so we also need the `!important` here to be able to override the default hidden behavior on the sphinx rendered scikit-learn.org. See: https://github.com/scikit-learn/scikit-learn/issues/21755 */display: inline-block !important;position: relative;}#sk-container-id-1 div.sk-text-repr-fallback {display: none;}</style><div id=\"sk-container-id-1\" class=\"sk-top-container\"><div class=\"sk-text-repr-fallback\"><pre>LogisticRegression(max_iter=1000, multi_class=&#x27;ovr&#x27;)</pre><b>In a Jupyter environment, please rerun this cell to show the HTML representation or trust the notebook. <br />On GitHub, the HTML representation is unable to render, please try loading this page with nbviewer.org.</b></div><div class=\"sk-container\" hidden><div class=\"sk-item\"><div class=\"sk-estimator sk-toggleable\"><input class=\"sk-toggleable__control sk-hidden--visually\" id=\"sk-estimator-id-1\" type=\"checkbox\" checked><label for=\"sk-estimator-id-1\" class=\"sk-toggleable__label sk-toggleable__label-arrow\">LogisticRegression</label><div class=\"sk-toggleable__content\"><pre>LogisticRegression(max_iter=1000, multi_class=&#x27;ovr&#x27;)</pre></div></div></div></div></div>"
      ],
      "text/plain": [
       "LogisticRegression(max_iter=1000, multi_class='ovr')"
      ]
     },
     "execution_count": 12,
     "metadata": {},
     "output_type": "execute_result"
    }
   ],
   "source": [
    "# Training logistic regression model using One-vs-All (default)\n",
    "model_ova = LogisticRegression(multi_class='ovr', max_iter=1000)\n",
    "model_ova.fit(X_train, y_train)"
   ]
  },
  {
   "cell_type": "markdown",
   "id": "e2c26783-c541-4f8a-9f5d-ce1de6206f86",
   "metadata": {},
   "source": [
    "You can now evaluate the accuracy of the trained model as a measure of its performance on unseen testing data.\n"
   ]
  },
  {
   "cell_type": "code",
   "execution_count": 18,
   "id": "ffdfbf13-603a-4362-af46-2958e7412ca3",
   "metadata": {},
   "outputs": [
    {
     "name": "stdout",
     "output_type": "stream",
     "text": [
      "One-vs-All (OvA) Strategy\n",
      "Accuracy: 76.6%\n"
     ]
    }
   ],
   "source": [
    "# Predictions\n",
    "y_pred_ova = model_ova.predict(X_test)\n",
    "\n",
    "# Evaluation metrics for OvA\n",
    "print(\"One-vs-All (OvA) Strategy\")\n",
    "print(f\"Accuracy: {np.round(100*accuracy_score(y_test, y_pred_ova),2)}%\")"
   ]
  },
  {
   "cell_type": "markdown",
   "id": "f92d083e-2815-4f0d-a709-a986e6d26985",
   "metadata": {},
   "source": [
    "### Logistic Regression with OvO\n",
    "\n",
    "In the One-vs-One approach:\n",
    "* The algorithm trains a binary classifier for every pair of classes in the dataset.\n",
    "* If there are k classes, this results in $k(k-1)/2$ classifiers.\n",
    "* Each classifier is trained to distinguish between two specific classes, ignoring the rest.\n",
    "* During prediction, all classifiers are used, and a \"voting\" mechanism decides the final class by selecting the class that wins the majority of pairwise comparisons.\n",
    "\n",
    "#### Advantages:\n",
    "* Suitable for algorithms that are computationally expensive to train on many samples because each binary classifier deals with a smaller dataset (only samples from two classes).\n",
    "* Can be more accurate in some cases since classifiers focus on distinguishing between two specific classes at a time.\n",
    "\n",
    "#### Disadvantages:\n",
    "* Computationally expensive for datasets with a large number of classes due to the large number of classifiers required.\n",
    "* May lead to ambiguous predictions if voting results in a tie.\n"
   ]
  },
  {
   "cell_type": "markdown",
   "id": "78642253-2e91-4f91-af0d-d664f4b24a36",
   "metadata": {},
   "source": [
    "Train a logistic regression model using the One-vs-One (OvO) strategy and evaluate its performance.\n"
   ]
  },
  {
   "cell_type": "code",
   "execution_count": 19,
   "id": "fab1b5dd-e252-4c5a-8bb7-1c67a3c9a7c5",
   "metadata": {},
   "outputs": [
    {
     "data": {
      "text/html": [
       "<style>#sk-container-id-2 {color: black;}#sk-container-id-2 pre{padding: 0;}#sk-container-id-2 div.sk-toggleable {background-color: white;}#sk-container-id-2 label.sk-toggleable__label {cursor: pointer;display: block;width: 100%;margin-bottom: 0;padding: 0.3em;box-sizing: border-box;text-align: center;}#sk-container-id-2 label.sk-toggleable__label-arrow:before {content: \"▸\";float: left;margin-right: 0.25em;color: #696969;}#sk-container-id-2 label.sk-toggleable__label-arrow:hover:before {color: black;}#sk-container-id-2 div.sk-estimator:hover label.sk-toggleable__label-arrow:before {color: black;}#sk-container-id-2 div.sk-toggleable__content {max-height: 0;max-width: 0;overflow: hidden;text-align: left;background-color: #f0f8ff;}#sk-container-id-2 div.sk-toggleable__content pre {margin: 0.2em;color: black;border-radius: 0.25em;background-color: #f0f8ff;}#sk-container-id-2 input.sk-toggleable__control:checked~div.sk-toggleable__content {max-height: 200px;max-width: 100%;overflow: auto;}#sk-container-id-2 input.sk-toggleable__control:checked~label.sk-toggleable__label-arrow:before {content: \"▾\";}#sk-container-id-2 div.sk-estimator input.sk-toggleable__control:checked~label.sk-toggleable__label {background-color: #d4ebff;}#sk-container-id-2 div.sk-label input.sk-toggleable__control:checked~label.sk-toggleable__label {background-color: #d4ebff;}#sk-container-id-2 input.sk-hidden--visually {border: 0;clip: rect(1px 1px 1px 1px);clip: rect(1px, 1px, 1px, 1px);height: 1px;margin: -1px;overflow: hidden;padding: 0;position: absolute;width: 1px;}#sk-container-id-2 div.sk-estimator {font-family: monospace;background-color: #f0f8ff;border: 1px dotted black;border-radius: 0.25em;box-sizing: border-box;margin-bottom: 0.5em;}#sk-container-id-2 div.sk-estimator:hover {background-color: #d4ebff;}#sk-container-id-2 div.sk-parallel-item::after {content: \"\";width: 100%;border-bottom: 1px solid gray;flex-grow: 1;}#sk-container-id-2 div.sk-label:hover label.sk-toggleable__label {background-color: #d4ebff;}#sk-container-id-2 div.sk-serial::before {content: \"\";position: absolute;border-left: 1px solid gray;box-sizing: border-box;top: 0;bottom: 0;left: 50%;z-index: 0;}#sk-container-id-2 div.sk-serial {display: flex;flex-direction: column;align-items: center;background-color: white;padding-right: 0.2em;padding-left: 0.2em;position: relative;}#sk-container-id-2 div.sk-item {position: relative;z-index: 1;}#sk-container-id-2 div.sk-parallel {display: flex;align-items: stretch;justify-content: center;background-color: white;position: relative;}#sk-container-id-2 div.sk-item::before, #sk-container-id-2 div.sk-parallel-item::before {content: \"\";position: absolute;border-left: 1px solid gray;box-sizing: border-box;top: 0;bottom: 0;left: 50%;z-index: -1;}#sk-container-id-2 div.sk-parallel-item {display: flex;flex-direction: column;z-index: 1;position: relative;background-color: white;}#sk-container-id-2 div.sk-parallel-item:first-child::after {align-self: flex-end;width: 50%;}#sk-container-id-2 div.sk-parallel-item:last-child::after {align-self: flex-start;width: 50%;}#sk-container-id-2 div.sk-parallel-item:only-child::after {width: 0;}#sk-container-id-2 div.sk-dashed-wrapped {border: 1px dashed gray;margin: 0 0.4em 0.5em 0.4em;box-sizing: border-box;padding-bottom: 0.4em;background-color: white;}#sk-container-id-2 div.sk-label label {font-family: monospace;font-weight: bold;display: inline-block;line-height: 1.2em;}#sk-container-id-2 div.sk-label-container {text-align: center;}#sk-container-id-2 div.sk-container {/* jupyter's `normalize.less` sets `[hidden] { display: none; }` but bootstrap.min.css set `[hidden] { display: none !important; }` so we also need the `!important` here to be able to override the default hidden behavior on the sphinx rendered scikit-learn.org. See: https://github.com/scikit-learn/scikit-learn/issues/21755 */display: inline-block !important;position: relative;}#sk-container-id-2 div.sk-text-repr-fallback {display: none;}</style><div id=\"sk-container-id-2\" class=\"sk-top-container\"><div class=\"sk-text-repr-fallback\"><pre>OneVsOneClassifier(estimator=LogisticRegression(max_iter=1000))</pre><b>In a Jupyter environment, please rerun this cell to show the HTML representation or trust the notebook. <br />On GitHub, the HTML representation is unable to render, please try loading this page with nbviewer.org.</b></div><div class=\"sk-container\" hidden><div class=\"sk-item sk-dashed-wrapped\"><div class=\"sk-label-container\"><div class=\"sk-label sk-toggleable\"><input class=\"sk-toggleable__control sk-hidden--visually\" id=\"sk-estimator-id-2\" type=\"checkbox\" ><label for=\"sk-estimator-id-2\" class=\"sk-toggleable__label sk-toggleable__label-arrow\">OneVsOneClassifier</label><div class=\"sk-toggleable__content\"><pre>OneVsOneClassifier(estimator=LogisticRegression(max_iter=1000))</pre></div></div></div><div class=\"sk-parallel\"><div class=\"sk-parallel-item\"><div class=\"sk-item\"><div class=\"sk-label-container\"><div class=\"sk-label sk-toggleable\"><input class=\"sk-toggleable__control sk-hidden--visually\" id=\"sk-estimator-id-3\" type=\"checkbox\" ><label for=\"sk-estimator-id-3\" class=\"sk-toggleable__label sk-toggleable__label-arrow\">estimator: LogisticRegression</label><div class=\"sk-toggleable__content\"><pre>LogisticRegression(max_iter=1000)</pre></div></div></div><div class=\"sk-serial\"><div class=\"sk-item\"><div class=\"sk-estimator sk-toggleable\"><input class=\"sk-toggleable__control sk-hidden--visually\" id=\"sk-estimator-id-4\" type=\"checkbox\" ><label for=\"sk-estimator-id-4\" class=\"sk-toggleable__label sk-toggleable__label-arrow\">LogisticRegression</label><div class=\"sk-toggleable__content\"><pre>LogisticRegression(max_iter=1000)</pre></div></div></div></div></div></div></div></div></div></div>"
      ],
      "text/plain": [
       "OneVsOneClassifier(estimator=LogisticRegression(max_iter=1000))"
      ]
     },
     "execution_count": 19,
     "metadata": {},
     "output_type": "execute_result"
    }
   ],
   "source": [
    "# Training logistic regression model using One-vs-One\n",
    "model_ovo = OneVsOneClassifier(LogisticRegression(max_iter=1000))\n",
    "model_ovo.fit(X_train, y_train)"
   ]
  },
  {
   "cell_type": "markdown",
   "id": "70b8af77-d61f-40cc-a7e8-4b972701c467",
   "metadata": {},
   "source": [
    "Evaluate the accuracy of the trained model as a measure of its performance on unseen testing data.\n"
   ]
  },
  {
   "cell_type": "code",
   "execution_count": 20,
   "id": "58d5bfc3-7a59-495c-8bd5-57639fc93713",
   "metadata": {},
   "outputs": [
    {
     "name": "stdout",
     "output_type": "stream",
     "text": [
      "One-vs-One (OvO) Strategy\n",
      "Accuracy: 92.43%\n"
     ]
    }
   ],
   "source": [
    "# Predictions\n",
    "y_pred_ovo = model_ovo.predict(X_test)\n",
    "\n",
    "# Evaluation metrics for OvO\n",
    "print(\"One-vs-One (OvO) Strategy\")\n",
    "print(f\"Accuracy: {np.round(100*accuracy_score(y_test, y_pred_ovo),2)}%\")"
   ]
  },
  {
   "cell_type": "markdown",
   "id": "ee9b65ee-f3c5-40a4-b4c5-879fab76890b",
   "metadata": {},
   "source": [
    "### Exercises\n"
   ]
  },
  {
   "cell_type": "markdown",
   "id": "616c7475-49af-4764-a8c4-669ae5ddb21b",
   "metadata": {},
   "source": [
    "Q1. Experiment with different test sizes in the train_test_split method (e.g., 0.1, 0.3) and observe the impact on model performance.\n"
   ]
  },
  {
   "cell_type": "code",
   "execution_count": 23,
   "id": "d6332944-92a2-4a6c-847d-3f010934e43e",
   "metadata": {},
   "outputs": [
    {
     "name": "stdout",
     "output_type": "stream",
     "text": [
      "One-vs-All (OvA) Strategy (test_size = 0.1)\n",
      "Accuracy: 75.94%\n",
      "One-vs-One (OvO) Strategy (test_size = 0.1)\n",
      "Accuracy: 90.57%\n",
      "One-vs-All (OvA) Strategy (test_size = 0.2)\n",
      "Accuracy: 76.6%\n",
      "One-vs-One (OvO) Strategy (test_size = 0.2)\n",
      "Accuracy: 92.43%\n",
      "One-vs-All (OvA) Strategy (test_size = 0.3)\n",
      "Accuracy: 74.76%\n",
      "One-vs-One (OvO) Strategy (test_size = 0.3)\n",
      "Accuracy: 90.85%\n",
      "One-vs-All (OvA) Strategy (test_size = 0.4)\n",
      "Accuracy: 75.74%\n",
      "One-vs-One (OvO) Strategy (test_size = 0.4)\n",
      "Accuracy: 91.36%\n",
      "One-vs-All (OvA) Strategy (test_size = 0.5)\n",
      "Accuracy: 77.08%\n",
      "One-vs-One (OvO) Strategy (test_size = 0.5)\n",
      "Accuracy: 91.38%\n"
     ]
    }
   ],
   "source": [
    "for test_size in [0.1, 0.2, 0.3, 0.4, 0.5]:\n",
    "    X_train, X_test, y_train, y_test = train_test_split(X, y, test_size=test_size, random_state=42, stratify=y)\n",
    "    model_ova = LogisticRegression(multi_class='ovr', max_iter=1000)\n",
    "    model_ova.fit(X_train, y_train)\n",
    "    y_pred_ova = model_ova.predict(X_test)\n",
    "    # Evaluation metrics for OvA\n",
    "    print(f\"One-vs-All (OvA) Strategy (test_size = {test_size})\")\n",
    "    print(f\"Accuracy: {np.round(100*accuracy_score(y_test, y_pred_ova),2)}%\")\n",
    "\n",
    "    model_ovo = OneVsOneClassifier(LogisticRegression(max_iter=1000))\n",
    "    model_ovo.fit(X_train, y_train)\n",
    "    y_pred_ovo = model_ovo.predict(X_test)\n",
    "    # Evaluation metrics for OvO\n",
    "    print(f\"One-vs-One (OvO) Strategy (test_size = {test_size})\")\n",
    "    print(f\"Accuracy: {np.round(100*accuracy_score(y_test, y_pred_ovo),2)}%\")"
   ]
  },
  {
   "cell_type": "markdown",
   "id": "3503091c-67d6-4d8f-84d3-cab030f0620c",
   "metadata": {},
   "source": [
    "<details><summary>Click here for the solution</summary>\n",
    "\n",
    "```python\n",
    "for test_size in [0.1, 0.3]:\n",
    "    X_train, X_test, y_train, y_test = train_test_split(X, y, test_size=test_size, random_state=42, stratify=y)\n",
    "    model_ova.fit(X_train, y_train)\n",
    "    y_pred = model_ova.predict(X_test)\n",
    "    print(f\"Test Size: {test_size}\")\n",
    "    print(\"Accuracy:\", accuracy_score(y_test, y_pred))\n",
    "```\n",
    "</details>\n"
   ]
  },
  {
   "cell_type": "markdown",
   "id": "203d9f53-70de-4b98-87db-d82c7dce3920",
   "metadata": {},
   "source": [
    "Q2. Plot a bar chart of feature importance using the coefficients from the One vs All logistic regression model. Also try for the One vs One model.\n"
   ]
  },
  {
   "cell_type": "code",
   "execution_count": 26,
   "id": "1276ed66-4db7-4a7a-b8cc-f6bb901b1662",
   "metadata": {},
   "outputs": [
    {
     "name": "stdout",
     "output_type": "stream",
     "text": [
      "[[-6.19668783e-01  1.82461232e+00 -6.78539952e+00  2.94787799e-01\n",
      "   1.25765734e-01  1.93750441e-01 -1.16280355e-01  3.34377060e-02\n",
      "  -4.46278868e-01 -7.19030396e-02  1.97329760e-02  1.16214712e+00\n",
      "   5.57435488e-01 -3.85135420e-01 -6.06205491e-01 -2.87014066e-01\n",
      "  -7.50371493e-01  4.18244987e-01  3.32587321e-01 -6.58024684e-01\n",
      "  -2.67193406e-01  3.79338106e-01 -5.11766421e-01]\n",
      " [-1.55438421e-01 -1.71520430e-01 -1.53214399e+00 -1.67800130e-01\n",
      "   2.73256705e-02 -2.16507573e-01  2.74220900e-01 -4.67391453e-02\n",
      "   9.84462874e-01 -4.01242559e-01 -3.82580696e-01 -6.54096627e-01\n",
      "  -1.22035184e+00 -7.13669042e-01  8.72399919e-01  1.23635021e-01\n",
      "   7.51180338e-01 -4.87582164e-01 -2.63741809e-01  9.95696941e-01\n",
      "   1.20948905e+00 -5.12110090e-01  1.13314393e+00]\n",
      " [-9.03122937e-02 -6.99010894e-01  7.90562452e-01 -7.38098712e-01\n",
      "  -3.11657466e-01  2.19799247e-01  1.50968377e-01 -8.79112581e-02\n",
      "   2.97513410e-01  1.52603576e+00  2.18872554e+00 -7.48658290e-01\n",
      "   5.97308679e-01 -6.05839265e-01  1.27123825e-03 -1.32579730e+00\n",
      "   5.17442322e-01 -8.15985561e-01  2.97253520e-01 -5.90639725e-02\n",
      "  -7.67200721e-02 -8.29297190e-01 -1.01446701e+00]\n",
      " [ 8.82472702e-01 -9.77723252e-01  4.34074513e+00  2.92382346e-02\n",
      "   3.40790455e-02 -5.71680808e-01 -2.38544104e-01 -2.00296810e-01\n",
      "   6.83103914e+00  3.49858306e-01 -2.09268041e-01 -5.48227700e-01\n",
      "   2.97768347e-01 -5.50542538e-02  9.85962885e-02 -1.21161010e-01\n",
      "  -9.17806240e-01  4.09916342e-01  5.10043059e-01 -1.38304675e-03\n",
      "  -2.80158465e-03  6.44133921e-01 -2.03151880e-01]\n",
      " [-3.60124316e-01 -1.67954068e+00  3.69857148e+00  1.98498185e+00\n",
      "   8.14758149e-01  2.43163201e-01 -1.07643164e+00 -2.35209307e-01\n",
      "  -2.78921887e+00  4.11834923e-01  4.82156548e-01 -1.51948110e-01\n",
      "   2.33959728e-01 -5.03780428e-03 -1.93002618e-01 -2.37799968e-01\n",
      "  -3.85912055e-02  8.05746947e-01 -7.67068037e-01  1.80170760e-06\n",
      "  -7.38986906e-04  9.84393196e-01 -1.65442397e-02]\n",
      " [ 7.77432529e-02  3.76231098e-01 -1.03031192e+00 -3.19812615e-01\n",
      "  -1.83686680e-01  2.18914368e-01 -6.17630442e-02 -1.58157009e-01\n",
      "  -3.38481108e-01  2.91709328e-01  8.56204814e-01 -1.31203351e+00\n",
      "   2.83017080e-01  1.81787777e+00 -9.44859882e-01  1.32432797e+00\n",
      "   4.12388671e-01  2.83533844e-01 -6.97808657e-01 -4.91551682e-01\n",
      "  -2.41923512e-01  5.95185367e-02  4.15012777e-01]\n",
      " [ 6.58745439e-01  3.17488557e-01 -9.22083425e-01 -2.13675723e-01\n",
      "  -3.47483726e-01  8.16493288e-02 -2.88799217e-01  1.74238114e-01\n",
      "   6.96854638e-01  2.18837988e+00 -2.01456267e+00 -5.70215224e-01\n",
      "   1.19362974e+00 -4.87689549e-01 -1.65776077e-01 -1.10846281e+00\n",
      "   5.96866342e-01 -4.46145285e-01 -1.50536355e-01 -4.94874308e-01\n",
      "  -4.67302257e-02  8.72639002e-01 -3.10314413e-02]]\n"
     ]
    },
    {
     "data": {
      "image/png": "[encoded data removed]",
      "text/plain": [
       "<Figure size 640x480 with 1 Axes>"
      ]
     },
     "metadata": {},
     "output_type": "display_data"
    }
   ],
   "source": [
    "# Feature importance\n",
    "print(model_ova.coef_)\n",
    "feature_importance = np.mean(np.abs(model_ova.coef_), axis=0)\n",
    "plt.barh(X.columns, feature_importance)\n",
    "plt.title(\"Feature Importance\")\n",
    "plt.xlabel(\"Importance\")\n",
    "plt.show()"
   ]
  },
  {
   "cell_type": "markdown",
   "id": "132e911f-db9b-4820-bcba-c83afd92026a",
   "metadata": {},
   "source": [
    "<details><summary>Click here for the solution</summary>\n",
    "\n",
    "```python\n",
    "# Feature importance\n",
    "feature_importance = np.mean(np.abs(model_ova.coef_), axis=0)\n",
    "plt.barh(X.columns, feature_importance)\n",
    "plt.title(\"Feature Importance\")\n",
    "plt.xlabel(\"Importance\")\n",
    "plt.show()\n",
    "```\n",
    "\n",
    "For One vs One, change `model_ova` to `model_ovo` in the code above.\n",
    "</details>\n"
   ]
  },
  {
   "cell_type": "markdown",
   "id": "432cbefd-8823-4a8f-b279-b9f2ca20d166",
   "metadata": {},
   "source": [
    "Q3. Write a function `obesity_risk_pipeline` to automate the entire pipeline: <br>\n",
    "<ol>\n",
    "<li> Loading and preprocessing the data </li>\n",
    "<li> Training the model </li>\n",
    "<li> Evaluating the model </li>\n",
    "</ol>\n",
    "The function should accept the file path and test set size as the input arguments.\n"
   ]
  },
  {
   "cell_type": "code",
   "execution_count": null,
   "id": "1bd40145-02ce-432e-be9a-a8683e7dd958",
   "metadata": {},
   "outputs": [],
   "source": [
    "# write your function here and then execute this cell\n",
    "def obesity_risk_pipeline(data_path, test_size):\n",
    "    ...\n",
    "\n",
    "\n",
    "obesity_risk_pipeline(file_path, test_size=0.2)"
   ]
  },
  {
   "cell_type": "markdown",
   "id": "4c33574b-6813-415d-9407-3c57ed6e9ba5",
   "metadata": {},
   "source": [
    "<details><summary>Click here for the solution</summary>\n",
    "\n",
    "```python\n",
    "def obesity_risk_pipeline(data_path, test_size=0.2):\n",
    "    # Load data\n",
    "    data = pd.read_csv(data_path)\n",
    "\n",
    "    # Standardizing continuous numerical features\n",
    "    continuous_columns = data.select_dtypes(include=['float64']).columns.tolist()\n",
    "    scaler = StandardScaler()\n",
    "    scaled_features = scaler.fit_transform(data[continuous_columns])\n",
    "    \n",
    "    # Converting to a DataFrame\n",
    "    scaled_df = pd.DataFrame(scaled_features, columns=scaler.get_feature_names_out(continuous_columns))\n",
    "    \n",
    "    # Combining with the original dataset\n",
    "    scaled_data = pd.concat([data.drop(columns=continuous_columns), scaled_df], axis=1)\n",
    "\n",
    "    # Identifying categorical columns\n",
    "    categorical_columns = scaled_data.select_dtypes(include=['object']).columns.tolist()\n",
    "    categorical_columns.remove('NObeyesdad')  # Exclude target column\n",
    "    \n",
    "    # Applying one-hot encoding\n",
    "    encoder = OneHotEncoder(sparse_output=False, drop='first')\n",
    "    encoded_features = encoder.fit_transform(scaled_data[categorical_columns])\n",
    "    \n",
    "    # Converting to a DataFrame\n",
    "    encoded_df = pd.DataFrame(encoded_features, columns=encoder.get_feature_names_out(categorical_columns))\n",
    "    \n",
    "    # Combining with the original dataset\n",
    "    prepped_data = pd.concat([scaled_data.drop(columns=categorical_columns), encoded_df], axis=1)\n",
    "    \n",
    "    # Encoding the target variable\n",
    "    prepped_data['NObeyesdad'] = prepped_data['NObeyesdad'].astype('category').cat.codes\n",
    "\n",
    "    # Preparing final dataset\n",
    "    X = prepped_data.drop('NObeyesdad', axis=1)\n",
    "    y = prepped_data['NObeyesdad']\n",
    "   \n",
    "    # Splitting data\n",
    "    X_train, X_test, y_train, y_test = train_test_split(X, y, test_size=test_size, random_state=42, stratify=y)\n",
    "    \n",
    "    # Training and evaluation\n",
    "    model = LogisticRegression(multi_class='multinomial', max_iter=1000)\n",
    "    model.fit(X_train, y_train)\n",
    "    y_pred = model.predict(X_test)\n",
    "    print(\"Accuracy:\", accuracy_score(y_test, y_pred))\n",
    "```\n",
    "</details>\n"
   ]
  },
  {
   "cell_type": "markdown",
   "id": "0a739e9c-81c3-43be-bc1b-0819786190a3",
   "metadata": {},
   "source": [
    "### Congratulations! You're ready to move on to your next lesson!\n",
    " \n",
    "## Author\n",
    " \n",
    "<a href=\"https://www.linkedin.com/in/abhishek-gagneja-23051987/\" target=\"_blank\">Abishek Gagneja</a>\n",
    " \n",
    " \n",
    " ### Other Contributors\n",
    " \n",
    "<a href=\"https://www.linkedin.com/in/jpgrossman/\" target=\"_blank\">Jeff Grossman</a>\n",
    "\n",
    "\n",
    "\n",
    "<!--\n",
    "## Changelog\n",
    " \n",
    "| Date | Version | Changed by | Change Description |\n",
    "\n",
    "|:------------|:------|:------------------|:---------------------------------------|\n",
    "\n",
    "| 2024-11-05 | 1.0  Abhishek Gagnejan    | Fresh version created |\n",
    " \n"
   ]
  },
  {
   "cell_type": "markdown",
   "id": "95fd9217-f8bc-468b-bc20-4abe7be31b6e",
   "metadata": {},
   "source": [
    "<h3 align=\"center\"> © IBM Corporation. All rights reserved. <h3/>\n"
   ]
  }
 ],
 "metadata": {
  "kernelspec": {
   "display_name": "Python 3",
   "language": "python",
   "name": "python3"
  },
  "language_info": {
   "codemirror_mode": {
    "name": "ipython",
    "version": 3
   },
   "file_extension": ".py",
   "mimetype": "text/x-python",
   "name": "python",
   "nbconvert_exporter": "python",
   "pygments_lexer": "ipython3",
   "version": "3.8.10"
  },
  "prev_pub_hash": "688f362e61a4f318ed825850470c0aa63ee726743053a10eeeebf1bfc0b625ae"
 },
 "nbformat": 4,
 "nbformat_minor": 4
}
