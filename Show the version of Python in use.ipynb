{
 "cells": [
  {
   "cell_type": "code",
   "execution_count": null,
   "metadata": {},
   "outputs": [],
   "source": [
    "# The sys module provides access to some variables used or maintained by the Python interpreter\n",
    "# and to functions that interact strongly with the interpreter.\n",
    "import sys\n",
    "\n",
    "# The sys.version_info attribute returns a tuple containing the five components of the version number\n",
    "def check_python_version():\n",
    "    version = sys.version_info\n",
    "    print(f\"Python version: {version.major}.{version.minor}.{version.micro}\")\n",
    "\n",
    "# ensures that the check_python_version function is called only when the script is run directly, \n",
    "# not when it is imported as a module.\n",
    "if __name__ == \"__main__\":\n",
    "    check_python_version()"
   ]
  }
 ],
 "metadata": {
  "language_info": {
   "name": "python"
  }
 },
 "nbformat": 4,
 "nbformat_minor": 2
}
