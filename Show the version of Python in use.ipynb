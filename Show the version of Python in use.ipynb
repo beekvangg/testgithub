{
 "cells": [
  {
   "cell_type": "code",
   "execution_count": 1,
   "metadata": {},
   "outputs": [
    {
     "name": "stdout",
     "output_type": "stream",
     "text": [
      "Python version: 3.8.10\n"
     ]
    }
   ],
   "source": [
    "# The sys module provides access to some variables used or maintained by the Python interpreter\n",
    "# and to functions that interact strongly with the interpreter.\n",
    "import sys\n",
    "\n",
    "# The sys.version_info attribute returns a tuple containing the five components of the version number\n",
    "def check_python_version():\n",
    "    version = sys.version_info\n",
    "    print(f\"Python version: {version.major}.{version.minor}.{version.micro}\")\n",
    "\n",
    "# Ensures that the check_python_version function is called only when the script is run directly, \n",
    "# not when it is imported as a module.\n",
    "if __name__ == \"__main__\":\n",
    "    check_python_version()"
   ]
  }
 ],
 "metadata": {
  "kernelspec": {
   "display_name": "Python 3",
   "language": "python",
   "name": "python3"
  },
  "language_info": {
   "codemirror_mode": {
    "name": "ipython",
    "version": 3
   },
   "file_extension": ".py",
   "mimetype": "text/x-python",
   "name": "python",
   "nbconvert_exporter": "python",
   "pygments_lexer": "ipython3",
   "version": "3.8.10"
  }
 },
 "nbformat": 4,
 "nbformat_minor": 2
}
