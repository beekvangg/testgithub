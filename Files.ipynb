{
 "cells": [
  {
   "cell_type": "code",
   "execution_count": 2,
   "metadata": {},
   "outputs": [
    {
     "name": "stdout",
     "output_type": "stream",
     "text": [
      "hello, world!\n",
      "this is a simple text file.\n",
      "it contains multiple lines of text.\n",
      "each line is separated by a newline character.\n",
      "\n",
      "feel free to add more content to this file.\n",
      "this is just an example to get you started.\n"
     ]
    }
   ],
   "source": [
    "# Reading and Storing the Entire Content of a File\n",
    "# Using the read method, you can retrieve the complete content of a file\n",
    "# and store it as a string in a variable for further processing or display.\n",
    "# Step 1: Open the file you want to read\n",
    "with open('example.txt', 'r') as file:\n",
    "    # Step 2: Use the read method to read the entire content of the file\n",
    "    file_stuff = file.read()\n",
    "    # Step 3: Now that the file content is stored in the variable 'file_stuff',\n",
    "    # you can manipulate or display it as needed.\n",
    "    # For example, let's print the content to the console:\n",
    "    print(file_stuff.lower())\n",
    "# Step 4: The 'with' statement automatically closes the file when it's done,\n",
    "# ensuring proper resource management and preventing resource leaks."
   ]
  },
  {
   "cell_type": "code",
   "execution_count": 3,
   "metadata": {},
   "outputs": [
    {
     "name": "stdout",
     "output_type": "stream",
     "text": [
      "Hello, world!\n",
      "\n"
     ]
    }
   ],
   "source": [
    "# Reading line by line: Now, you can use readline() to read one line from the file at a time. \n",
    "# It's like turning the pages of the book, but here, \n",
    "# you're getting one sentence (or line) at each turn\n",
    "with open('example.txt', 'r') as file:\n",
    "    line1 = file.readline()  # Reads the first line\n",
    "    line2 = file.readline()  # Reads the second line\n",
    "    print(line1)  # Print the first line\n",
    "    if 'important' in line2:\n",
    "        print('This line is important!')"
   ]
  },
  {
   "cell_type": "code",
   "execution_count": 4,
   "metadata": {},
   "outputs": [
    {
     "name": "stdout",
     "output_type": "stream",
     "text": [
      "Hello, world!\n",
      "\n",
      "This is a simple text file.\n",
      "\n",
      "It contains multiple lines of text.\n",
      "\n",
      "Each line is separated by a newline character.\n",
      "\n",
      "\n",
      "\n",
      "Feel free to add more content to this file.\n",
      "\n",
      "This is just an example to get you started.\n"
     ]
    }
   ],
   "source": [
    "with open('example.txt', 'r') as file:\n",
    "    while True:\n",
    "        line = file.readline()\n",
    "        if not line:\n",
    "            break  # Stop when there are no more lines to read\n",
    "        print(line)"
   ]
  },
  {
   "cell_type": "code",
   "execution_count": 9,
   "metadata": {},
   "outputs": [
    {
     "name": "stdout",
     "output_type": "stream",
     "text": [
      "ld!\n",
      "T\n"
     ]
    }
   ],
   "source": [
    "# Reading specific characters from a text file in Python involves opening the file, \n",
    "# navigating to the desired position, and then reading the characters you need. \n",
    "# Here's a detailed explanation of how to read specific characters from a file\n",
    "file = open('example.txt', 'r')\n",
    "file.seek(10)  # Move to the 11th byte (0-based index)\n",
    "characters = file.read(5)  # Read the next 5 characters\n",
    "print(characters)\n",
    "file.close()"
   ]
  },
  {
   "cell_type": "code",
   "execution_count": null,
   "metadata": {},
   "outputs": [
    {
     "name": "stdout",
     "output_type": "stream",
     "text": [
      "example.txt\n",
      "r\n",
      "<_io.TextIOWrapper name='example.txt' mode='r' encoding='cp1252'>\n"
     ]
    },
    {
     "ename": "NameError",
     "evalue": "name 'close' is not defined",
     "output_type": "error",
     "traceback": [
      "\u001b[1;31m---------------------------------------------------------------------------\u001b[0m",
      "\u001b[1;31mNameError\u001b[0m                                 Traceback (most recent call last)",
      "Cell \u001b[1;32mIn[14], line 8\u001b[0m\n\u001b[0;32m      6\u001b[0m \u001b[38;5;28mprint\u001b[39m(file\u001b[38;5;241m.\u001b[39mmode)\n\u001b[0;32m      7\u001b[0m \u001b[38;5;28mprint\u001b[39m(file)\n\u001b[1;32m----> 8\u001b[0m \u001b[43mclose\u001b[49m(file)\n",
      "\u001b[1;31mNameError\u001b[0m: name 'close' is not defined"
     ]
    }
   ],
   "source": [
    "# Read the Example1.txt\n",
    "example = \"example.txt\"\n",
    "file = open(example, \"r\")\n",
    "# Print the path of file\n",
    "print(file.name)\n",
    "print(file.mode)\n",
    "print(file)\n",
    "file.close()"
   ]
  },
  {
   "cell_type": "code",
   "execution_count": null,
   "metadata": {},
   "outputs": [],
   "source": []
  }
 ],
 "metadata": {
  "kernelspec": {
   "display_name": "Python 3",
   "language": "python",
   "name": "python3"
  },
  "language_info": {
   "codemirror_mode": {
    "name": "ipython",
    "version": 3
   },
   "file_extension": ".py",
   "mimetype": "text/x-python",
   "name": "python",
   "nbconvert_exporter": "python",
   "pygments_lexer": "ipython3",
   "version": "3.13.1"
  }
 },
 "nbformat": 4,
 "nbformat_minor": 2
}
