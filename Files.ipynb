{
 "cells": [
  {
   "cell_type": "code",
   "execution_count": 2,
   "metadata": {},
   "outputs": [
    {
     "name": "stdout",
     "output_type": "stream",
     "text": [
      "hello, world!\n",
      "this is a simple text file.\n",
      "it contains multiple lines of text.\n",
      "each line is separated by a newline character.\n",
      "\n",
      "feel free to add more content to this file.\n",
      "this is just an example to get you started.\n"
     ]
    }
   ],
   "source": [
    "# Reading and Storing the Entire Content of a File\n",
    "# Using the read method, you can retrieve the complete content of a file\n",
    "# and store it as a string in a variable for further processing or display.\n",
    "# Step 1: Open the file you want to read\n",
    "with open('example.txt', 'r') as file:\n",
    "    # Step 2: Use the read method to read the entire content of the file\n",
    "    file_stuff = file.read()\n",
    "    # Step 3: Now that the file content is stored in the variable 'file_stuff',\n",
    "    # you can manipulate or display it as needed.\n",
    "    # For example, let's print the content to the console:\n",
    "    print(file_stuff.lower())\n",
    "# Step 4: The 'with' statement automatically closes the file when it's done,\n",
    "# ensuring proper resource management and preventing resource leaks."
   ]
  },
  {
   "cell_type": "code",
   "execution_count": 3,
   "metadata": {},
   "outputs": [
    {
     "name": "stdout",
     "output_type": "stream",
     "text": [
      "Hello, world!\n",
      "\n"
     ]
    }
   ],
   "source": [
    "# Reading line by line: Now, you can use readline() to read one line from the file at a time. \n",
    "# It's like turning the pages of the book, but here, \n",
    "# you're getting one sentence (or line) at each turn\n",
    "with open('example.txt', 'r') as file:\n",
    "    line1 = file.readline()  # Reads the first line\n",
    "    line2 = file.readline()  # Reads the second line\n",
    "    print(line1)  # Print the first line\n",
    "    if 'important' in line2:\n",
    "        print('This line is important!')"
   ]
  },
  {
   "cell_type": "code",
   "execution_count": 4,
   "metadata": {},
   "outputs": [
    {
     "name": "stdout",
     "output_type": "stream",
     "text": [
      "Hello, world!\n",
      "\n",
      "This is a simple text file.\n",
      "\n",
      "It contains multiple lines of text.\n",
      "\n",
      "Each line is separated by a newline character.\n",
      "\n",
      "\n",
      "\n",
      "Feel free to add more content to this file.\n",
      "\n",
      "This is just an example to get you started.\n"
     ]
    }
   ],
   "source": [
    "with open('example.txt', 'r') as file:\n",
    "    while True:\n",
    "        line = file.readline()\n",
    "        if not line:\n",
    "            break  # Stop when there are no more lines to read\n",
    "        print(line)"
   ]
  },
  {
   "cell_type": "code",
   "execution_count": 9,
   "metadata": {},
   "outputs": [
    {
     "name": "stdout",
     "output_type": "stream",
     "text": [
      "ld!\n",
      "T\n"
     ]
    }
   ],
   "source": [
    "# Reading specific characters from a text file in Python involves opening the file, \n",
    "# navigating to the desired position, and then reading the characters you need. \n",
    "# Here's a detailed explanation of how to read specific characters from a file\n",
    "file = open('example.txt', 'r')\n",
    "file.seek(10)  # Move to the 11th byte (0-based index)\n",
    "characters = file.read(5)  # Read the next 5 characters\n",
    "print(characters)\n",
    "file.close()"
   ]
  },
  {
   "cell_type": "code",
   "execution_count": 15,
   "metadata": {},
   "outputs": [
    {
     "name": "stdout",
     "output_type": "stream",
     "text": [
      "example.txt\n",
      "r\n",
      "<_io.TextIOWrapper name='example.txt' mode='r' encoding='cp1252'>\n"
     ]
    }
   ],
   "source": [
    "# Read the Example1.txt\n",
    "example = \"example.txt\"\n",
    "file = open(example, \"r\")\n",
    "# Print the path of file\n",
    "print(file.name)\n",
    "print(file.mode)\n",
    "print(file)\n",
    "file.close()"
   ]
  },
  {
   "cell_type": "code",
   "execution_count": 16,
   "metadata": {},
   "outputs": [],
   "source": [
    "# Create a new file Example2.txt for writing\n",
    "with open('Example2.txt', 'w') as file1:\n",
    "    file1.write(\"This is line A\\n\")\n",
    "    file1.write(\"This is line B\\n\")\n",
    "    # file1 is automatically closed when the 'with' block exits"
   ]
  },
  {
   "cell_type": "code",
   "execution_count": 17,
   "metadata": {},
   "outputs": [],
   "source": [
    "# List of lines to write to the file\n",
    "Lines = [\"This is line 1\", \"This is line 2\", \"This is line 3\"]\n",
    "# Create a new file Example3.txt for writing\n",
    "with open('Example3.txt', 'w') as file2:\n",
    "    for line in Lines:\n",
    "        file2.write(line + \"\\n\")\n",
    "    # file2 is automatically closed when the 'with' block exits"
   ]
  },
  {
   "cell_type": "code",
   "execution_count": 18,
   "metadata": {},
   "outputs": [],
   "source": [
    "# Data to append to the existing file\n",
    "new_data = \"This is line C\"\n",
    "# Open an existing file Example2.txt for appending\n",
    "with open('Example2.txt', 'a') as file1:\n",
    "    file1.write(new_data + \"\\n\")\n",
    "    # file1 is automatically closed when the 'with' block exits"
   ]
  },
  {
   "cell_type": "markdown",
   "metadata": {},
   "source": [
    "#### In Python, you can copy the contents of one file to another by reading from the source file and writing to the destination file. Here's an example code snippet that demonstrates this:"
   ]
  },
  {
   "cell_type": "code",
   "execution_count": null,
   "metadata": {},
   "outputs": [],
   "source": [
    "# Open the source file for reading\n",
    "with open('source.txt', 'r') as source_file:\n",
    "    # Open the destination file for writing\n",
    "    with open('destination.txt', 'w') as destination_file:\n",
    "        # Read lines from the source file and copy them to the destination file\n",
    "        for line in source_file:\n",
    "            destination_file.write(line)\n",
    "    # Destination file is automatically closed when the 'with' block exits\n",
    "# Source file is automatically closed when the 'with' block exits"
   ]
  },
  {
   "cell_type": "code",
   "execution_count": 20,
   "metadata": {},
   "outputs": [
    {
     "name": "stdout",
     "output_type": "stream",
     "text": [
      "Line 1\n",
      "Line 2\n",
      "Line 3\n",
      "Line 4\n",
      "finished\n",
      "\n"
     ]
    }
   ],
   "source": [
    "with open('Example2.txt', 'r+') as testwritefile:\n",
    "    testwritefile.seek(0,0) #write at beginning of file\n",
    "    testwritefile.write(\"Line 1\" + \"\\n\")\n",
    "    testwritefile.write(\"Line 2\" + \"\\n\")\n",
    "    testwritefile.write(\"Line 3\" + \"\\n\")\n",
    "    testwritefile.write(\"Line 4\" + \"\\n\")\n",
    "    testwritefile.write(\"finished\\n\")\n",
    "    #Uncomment the line below\n",
    "    testwritefile.truncate()\n",
    "    testwritefile.seek(0,0)\n",
    "    print(testwritefile.read())"
   ]
  },
  {
   "cell_type": "code",
   "execution_count": null,
   "metadata": {},
   "outputs": [],
   "source": []
  }
 ],
 "metadata": {
  "kernelspec": {
   "display_name": "Python 3",
   "language": "python",
   "name": "python3"
  },
  "language_info": {
   "codemirror_mode": {
    "name": "ipython",
    "version": 3
   },
   "file_extension": ".py",
   "mimetype": "text/x-python",
   "name": "python",
   "nbconvert_exporter": "python",
   "pygments_lexer": "ipython3",
   "version": "3.13.1"
  }
 },
 "nbformat": 4,
 "nbformat_minor": 2
}
