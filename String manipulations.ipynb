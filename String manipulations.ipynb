{
 "cells": [
  {
   "cell_type": "code",
   "execution_count": 2,
   "metadata": {},
   "outputs": [
    {
     "name": "stdout",
     "output_type": "stream",
     "text": [
      "My name is John and I am 30 years old.\n"
     ]
    }
   ],
   "source": [
    "name = \"John\"\n",
    "age = 30\n",
    "print(f\"My name is {name} and I am {age} years old.\")"
   ]
  },
  {
   "cell_type": "code",
   "execution_count": 1,
   "metadata": {},
   "outputs": [
    {
     "name": "stdout",
     "output_type": "stream",
     "text": [
      "My name is John and I am 50 years old.\n"
     ]
    }
   ],
   "source": [
    "name = \"John\"\n",
    "age = 50\n",
    "print(\"My name is {} and I am {} years old.\".format(name, age))"
   ]
  },
  {
   "cell_type": "code",
   "execution_count": 3,
   "metadata": {},
   "outputs": [
    {
     "name": "stdout",
     "output_type": "stream",
     "text": [
      "My name is Johnathan and I am 30 years old.\n"
     ]
    }
   ],
   "source": [
    "name = \"Johnathan\"\n",
    "age = 30\n",
    "print(\"My name is %s and I am %d years old.\" % (name, age))\n",
    "# % (name, age): This is a tuple containing the variables name and age.\n",
    "# The values of these variables will replace the placeholders in the string."
   ]
  },
  {
   "cell_type": "code",
   "execution_count": 4,
   "metadata": {},
   "outputs": [
    {
     "name": "stdout",
     "output_type": "stream",
     "text": [
      "The sum of x and y is 30.\n"
     ]
    }
   ],
   "source": [
    "# F-strings are also able to evaluate expressions inside the curly braces, which can be very handy.\n",
    "x = 10\n",
    "y = 20\n",
    "print(f\"The sum of x and y is {x+y}.\")"
   ]
  },
  {
   "cell_type": "code",
   "execution_count": 5,
   "metadata": {},
   "outputs": [
    {
     "name": "stdout",
     "output_type": "stream",
     "text": [
      "Raw String: C:\\new_folder\\file.txt\n"
     ]
    }
   ],
   "source": [
    "# Raw strings are a powerful tool for handling textual data, especially when dealing \n",
    "# with escape characters. By prefixing a string literal with the letter ‘r’, \n",
    "# Python treats the string as raw, meaning it interprets backslashes as literal characters \n",
    "# rather than escape sequences.\n",
    "raw_string = r\"C:\\new_folder\\file.txt\"\n",
    "print(\"Raw String:\", raw_string)"
   ]
  },
  {
   "cell_type": "code",
   "execution_count": 6,
   "metadata": {},
   "outputs": [
    {
     "name": "stdout",
     "output_type": "stream",
     "text": [
      "T\n"
     ]
    }
   ],
   "source": [
    "name=\"The Bodyguard\"\n",
    "# Print the first element in the string\n",
    "print(name[0])"
   ]
  },
  {
   "cell_type": "code",
   "execution_count": null,
   "metadata": {},
   "outputs": [
    {
     "name": "stdout",
     "output_type": "stream",
     "text": [
      "T\n"
     ]
    }
   ],
   "source": [
    "name=\"The Bodyguard\"\n",
    "# Print the element on index 6 in the string\n",
    "print(name[6])"
   ]
  },
  {
   "cell_type": "code",
   "execution_count": 7,
   "metadata": {},
   "outputs": [
    {
     "name": "stdout",
     "output_type": "stream",
     "text": [
      "d\n"
     ]
    }
   ],
   "source": [
    "name=\"The Bodyguard\"\n",
    "# Print the last element in the string\n",
    "print(name[-1])"
   ]
  }
 ],
 "metadata": {
  "kernelspec": {
   "display_name": "Python 3",
   "language": "python",
   "name": "python3"
  },
  "language_info": {
   "codemirror_mode": {
    "name": "ipython",
    "version": 3
   },
   "file_extension": ".py",
   "mimetype": "text/x-python",
   "name": "python",
   "nbconvert_exporter": "python",
   "pygments_lexer": "ipython3",
   "version": "3.13.1"
  }
 },
 "nbformat": 4,
 "nbformat_minor": 2
}
